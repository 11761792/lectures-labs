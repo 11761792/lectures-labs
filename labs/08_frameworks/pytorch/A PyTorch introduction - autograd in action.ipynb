{
 "cells": [
  {
   "cell_type": "markdown",
   "metadata": {},
   "source": [
    "# Introduction\n",
    "\n",
    "PyTorch is a popular deep learning framework that was introduced around one year ago. It ha  a lower-api than Keras, but is much easier to use than TensorFlow when it comes to defining model. It is very popular among researchers and kagglers - a little less in the industry.\n",
    "\n",
    "http://pytorch.org/"
   ]
  },
  {
   "cell_type": "markdown",
   "metadata": {},
   "source": [
    "# Principles\n",
    "\n",
    "PyTorch essentially provides the user with two main utilies:\n",
    "\n",
    "- It allows to perform Tensor/vector computation on the GPU with an API similar (but not compatible) to Numpy.\n",
    "- It records all computation to be able to backpropagate through them. That is, provided a sequence of operations that start from a tensor $\\theta$ to define a scalar $g(\\theta)$, it is able to compute \n",
    "$\\nabla_\\theta g(\\theta)$ exactly, with only one function call.\n",
    "\n",
    "    - Typically, $\\theta$ will be a parameter of a neural network and\n",
    "    $g$ a loss function $\\ell(f_{\\theta}(x), y)$, \n",
    "\n",
    "The essential difference with TensorFlow lies in the way $g$ is defined: in PyTorch, every computation is done dynamically, from within the Python interpreter: any Numpy code can be ported to PyTorch easily, and all flow control operation (e.g. loops, if/else, etc.) can be kept untouched. In contrast, TensorFlow requires the user to define a static graph, that it uses internally (i.e. outside the Python interpreter), to compute derivatives.\n",
    "\n",
    "PyTorch takes care of recording everything it needs to do the backpropagation, *on the fly*."
   ]
  },
  {
   "cell_type": "markdown",
   "metadata": {},
   "source": [
    "# Installation\n",
    "\n",
    "We will use the CPU only version for the moment. We will assume that you have a working Anaconda environment.\n",
    "\n",
    "## On Linux:\n",
    "\n",
    "`conda install pytorch-cpu torchvision -c pytorch`\n",
    "\n",
    "## On OSX\n",
    "\n",
    "`conda install pytorch torchvision -c pytorch`\n",
    "\n",
    "## On Windows\n",
    "\n",
    "`conda install -c peterjc123 pytorch-cpu`\n",
    "\n",
    "Refer to https://github.com/peterjc123/pytorch-scripts for Windows installation problems."
   ]
  },
  {
   "cell_type": "markdown",
   "metadata": {},
   "source": [
    "# A first example\n",
    "\n",
    "We will define a vector $x \\in \\mathbb{R}^n$ and computes its norms using PyTorch. For this, we will define our first `Tensor` -- the Tensor object is the central element of PyTorch.\n",
    "\n",
    "Let us fill this vector with random values"
   ]
  },
  {
   "cell_type": "code",
   "execution_count": 1,
   "metadata": {},
   "outputs": [],
   "source": [
    "import torch\n",
    "\n",
    "n = 3\n",
    "x = torch.FloatTensor(n).uniform_()"
   ]
  },
  {
   "cell_type": "markdown",
   "metadata": {},
   "source": [
    "x is a Tensor, which can be manipulated roughly as a Numpy array"
   ]
  },
  {
   "cell_type": "code",
   "execution_count": 2,
   "metadata": {},
   "outputs": [
    {
     "data": {
      "text/plain": [
       "\n",
       " 0.9971\n",
       " 0.3172\n",
       " 0.2673\n",
       "[torch.FloatTensor of size 3]"
      ]
     },
     "execution_count": 2,
     "metadata": {},
     "output_type": "execute_result"
    }
   ],
   "source": [
    "x"
   ]
  },
  {
   "cell_type": "markdown",
   "metadata": {},
   "source": [
    "Let's do a small API tour"
   ]
  },
  {
   "cell_type": "code",
   "execution_count": 3,
   "metadata": {},
   "outputs": [
    {
     "data": {
      "text/plain": [
       "(torch.Size([3]), 3)"
      ]
     },
     "execution_count": 3,
     "metadata": {},
     "output_type": "execute_result"
    }
   ],
   "source": [
    "x.shape, x.shape[0]"
   ]
  },
  {
   "cell_type": "code",
   "execution_count": 4,
   "metadata": {},
   "outputs": [
    {
     "data": {
      "text/plain": [
       "\n",
       " 9.9711\n",
       " 3.1720\n",
       " 2.6728\n",
       "[torch.FloatTensor of size 3]"
      ]
     },
     "execution_count": 4,
     "metadata": {},
     "output_type": "execute_result"
    }
   ],
   "source": [
    "x * 10"
   ]
  },
  {
   "cell_type": "markdown",
   "metadata": {},
   "source": [
    "We can go back and forth from numpy to PyTorch tensors"
   ]
  },
  {
   "cell_type": "code",
   "execution_count": 5,
   "metadata": {},
   "outputs": [],
   "source": [
    "x_np = x.numpy()"
   ]
  },
  {
   "cell_type": "code",
   "execution_count": 6,
   "metadata": {},
   "outputs": [
    {
     "data": {
      "text/plain": [
       "\n",
       " 1  1  1\n",
       " 1  1  1\n",
       " 1  1  1\n",
       "[torch.DoubleTensor of size 3x3]"
      ]
     },
     "execution_count": 6,
     "metadata": {},
     "output_type": "execute_result"
    }
   ],
   "source": [
    "import numpy as np\n",
    "\n",
    "A = torch.from_numpy(np.ones((n, n)))\n",
    "\n",
    "A"
   ]
  },
  {
   "cell_type": "markdown",
   "metadata": {},
   "source": [
    "Note that all tensors are typed and that you can only do operations with tensors of the same type"
   ]
  },
  {
   "cell_type": "code",
   "execution_count": 7,
   "metadata": {},
   "outputs": [
    {
     "ename": "TypeError",
     "evalue": "torch.mv received an invalid combination of arguments - got (\u001b[32;1mtorch.DoubleTensor\u001b[0m, \u001b[31;1mtorch.FloatTensor\u001b[0m), but expected (torch.DoubleTensor source, torch.DoubleTensor vec)",
     "output_type": "error",
     "traceback": [
      "\u001b[0;31m---------------------------------------------------------------------------\u001b[0m",
      "\u001b[0;31mTypeError\u001b[0m                                 Traceback (most recent call last)",
      "\u001b[0;32m<ipython-input-7-a4f701ea6e16>\u001b[0m in \u001b[0;36m<module>\u001b[0;34m()\u001b[0m\n\u001b[0;32m----> 1\u001b[0;31m \u001b[0mtorch\u001b[0m\u001b[0;34m.\u001b[0m\u001b[0mmatmul\u001b[0m\u001b[0;34m(\u001b[0m\u001b[0mA\u001b[0m\u001b[0;34m,\u001b[0m \u001b[0mx\u001b[0m\u001b[0;34m)\u001b[0m\u001b[0;34m\u001b[0m\u001b[0m\n\u001b[0m",
      "\u001b[0;32m/opt/miniconda3/lib/python3.6/site-packages/torch/functional.py\u001b[0m in \u001b[0;36mmatmul\u001b[0;34m(tensor1, tensor2, out)\u001b[0m\n\u001b[1;32m    162\u001b[0m     \u001b[0;32mif\u001b[0m \u001b[0mdim_tensor1\u001b[0m \u001b[0;34m==\u001b[0m \u001b[0;36m2\u001b[0m \u001b[0;32mand\u001b[0m \u001b[0mdim_tensor2\u001b[0m \u001b[0;34m==\u001b[0m \u001b[0;36m1\u001b[0m\u001b[0;34m:\u001b[0m\u001b[0;34m\u001b[0m\u001b[0m\n\u001b[1;32m    163\u001b[0m         \u001b[0;32mif\u001b[0m \u001b[0mout\u001b[0m \u001b[0;32mis\u001b[0m \u001b[0;32mNone\u001b[0m\u001b[0;34m:\u001b[0m\u001b[0;34m\u001b[0m\u001b[0m\n\u001b[0;32m--> 164\u001b[0;31m             \u001b[0;32mreturn\u001b[0m \u001b[0mtorch\u001b[0m\u001b[0;34m.\u001b[0m\u001b[0mmv\u001b[0m\u001b[0;34m(\u001b[0m\u001b[0mtensor1\u001b[0m\u001b[0;34m,\u001b[0m \u001b[0mtensor2\u001b[0m\u001b[0;34m)\u001b[0m\u001b[0;34m\u001b[0m\u001b[0m\n\u001b[0m\u001b[1;32m    165\u001b[0m         \u001b[0;32melse\u001b[0m\u001b[0;34m:\u001b[0m\u001b[0;34m\u001b[0m\u001b[0m\n\u001b[1;32m    166\u001b[0m             \u001b[0;32mreturn\u001b[0m \u001b[0mtorch\u001b[0m\u001b[0;34m.\u001b[0m\u001b[0mmv\u001b[0m\u001b[0;34m(\u001b[0m\u001b[0mtensor1\u001b[0m\u001b[0;34m,\u001b[0m \u001b[0mtensor2\u001b[0m\u001b[0;34m,\u001b[0m \u001b[0mout\u001b[0m\u001b[0;34m=\u001b[0m\u001b[0mout\u001b[0m\u001b[0;34m)\u001b[0m\u001b[0;34m\u001b[0m\u001b[0m\n",
      "\u001b[0;31mTypeError\u001b[0m: torch.mv received an invalid combination of arguments - got (\u001b[32;1mtorch.DoubleTensor\u001b[0m, \u001b[31;1mtorch.FloatTensor\u001b[0m), but expected (torch.DoubleTensor source, torch.DoubleTensor vec)"
     ]
    }
   ],
   "source": [
    "torch.matmul(A, x)"
   ]
  },
  {
   "cell_type": "code",
   "execution_count": 8,
   "metadata": {},
   "outputs": [],
   "source": [
    "A = A.float()"
   ]
  },
  {
   "cell_type": "code",
   "execution_count": 9,
   "metadata": {},
   "outputs": [
    {
     "data": {
      "text/plain": [
       "\n",
       " 1.5816\n",
       " 1.5816\n",
       " 1.5816\n",
       "[torch.FloatTensor of size 3]"
      ]
     },
     "execution_count": 9,
     "metadata": {},
     "output_type": "execute_result"
    }
   ],
   "source": [
    "torch.matmul(A, x)"
   ]
  },
  {
   "cell_type": "code",
   "execution_count": 10,
   "metadata": {},
   "outputs": [
    {
     "data": {
      "text/plain": [
       "\n",
       " 1.5816\n",
       " 1.5816\n",
       " 1.5816\n",
       "[torch.FloatTensor of size 3]"
      ]
     },
     "execution_count": 10,
     "metadata": {},
     "output_type": "execute_result"
    }
   ],
   "source": [
    "A @ x"
   ]
  },
  {
   "cell_type": "markdown",
   "metadata": {},
   "source": [
    "Let us now define a norm function that returns the norm of $x$"
   ]
  },
  {
   "cell_type": "code",
   "execution_count": 11,
   "metadata": {},
   "outputs": [],
   "source": [
    "def f(x: torch.FloatTensor) -> torch.FloatTensor:\n",
    "    return torch.sqrt(torch.sum(x ** 2, dim=0))"
   ]
  },
  {
   "cell_type": "code",
   "execution_count": 12,
   "metadata": {},
   "outputs": [
    {
     "data": {
      "text/plain": [
       "\n",
       " 1.0799\n",
       "[torch.FloatTensor of size 1]"
      ]
     },
     "execution_count": 12,
     "metadata": {},
     "output_type": "execute_result"
    }
   ],
   "source": [
    "f(x)"
   ]
  },
  {
   "cell_type": "markdown",
   "metadata": {},
   "source": [
    "We are now interested in computing $\\nabla_x f(x) = \\frac{x}{|| x ||_2}$. For this, we will use the autograd facilities of PyTorch: central to it is the Variable class"
   ]
  },
  {
   "cell_type": "code",
   "execution_count": 13,
   "metadata": {},
   "outputs": [],
   "source": [
    "from torch.autograd import Variable"
   ]
  },
  {
   "cell_type": "code",
   "execution_count": 14,
   "metadata": {},
   "outputs": [],
   "source": [
    "x = Variable(x, requires_grad=True)"
   ]
  },
  {
   "cell_type": "code",
   "execution_count": 15,
   "metadata": {},
   "outputs": [
    {
     "data": {
      "text/plain": [
       "Variable containing:\n",
       " 0.9971\n",
       " 0.3172\n",
       " 0.2673\n",
       "[torch.FloatTensor of size 3]"
      ]
     },
     "execution_count": 15,
     "metadata": {},
     "output_type": "execute_result"
    }
   ],
   "source": [
    "x"
   ]
  },
  {
   "cell_type": "code",
   "execution_count": 16,
   "metadata": {},
   "outputs": [
    {
     "data": {
      "text/plain": [
       "\n",
       " 0.9971\n",
       " 0.3172\n",
       " 0.2673\n",
       "[torch.FloatTensor of size 3]"
      ]
     },
     "execution_count": 16,
     "metadata": {},
     "output_type": "execute_result"
    }
   ],
   "source": [
    "x.data"
   ]
  },
  {
   "cell_type": "markdown",
   "metadata": {},
   "source": [
    "Let us now compute the norm of f. All PyTorch functions can handle both Variables and Tensors."
   ]
  },
  {
   "cell_type": "code",
   "execution_count": 17,
   "metadata": {},
   "outputs": [],
   "source": [
    "norm = f(x)"
   ]
  },
  {
   "cell_type": "markdown",
   "metadata": {},
   "source": [
    "The following `.backward()` call will assign `.grad` attributes to all Variables requires in $f$ computation for which a gradient is required."
   ]
  },
  {
   "cell_type": "code",
   "execution_count": 18,
   "metadata": {},
   "outputs": [],
   "source": [
    "norm.backward()"
   ]
  },
  {
   "cell_type": "markdown",
   "metadata": {},
   "source": [
    "The gradient $\\nabla_x f(x)$ can be found in `x.grad`, which is also a Variable"
   ]
  },
  {
   "cell_type": "code",
   "execution_count": 19,
   "metadata": {},
   "outputs": [
    {
     "data": {
      "text/plain": [
       "Variable containing:\n",
       " 0.9233\n",
       " 0.2937\n",
       " 0.2475\n",
       "[torch.FloatTensor of size 3]"
      ]
     },
     "execution_count": 19,
     "metadata": {},
     "output_type": "execute_result"
    }
   ],
   "source": [
    "x.grad"
   ]
  },
  {
   "cell_type": "markdown",
   "metadata": {},
   "source": [
    "Let us compare it to the derivative we know:"
   ]
  },
  {
   "cell_type": "code",
   "execution_count": 20,
   "metadata": {},
   "outputs": [],
   "source": [
    "y = x / f(x)"
   ]
  },
  {
   "cell_type": "code",
   "execution_count": 21,
   "metadata": {},
   "outputs": [
    {
     "data": {
      "text/plain": [
       "Variable containing:\n",
       " 0.9233\n",
       " 0.2937\n",
       " 0.2475\n",
       "[torch.FloatTensor of size 3]"
      ]
     },
     "execution_count": 21,
     "metadata": {},
     "output_type": "execute_result"
    }
   ],
   "source": [
    "y"
   ]
  },
  {
   "cell_type": "markdown",
   "metadata": {},
   "source": [
    "It works ! You now know everything you need to know to use PyTorch. Note that, similar to Keras, PyTorch comes with a number of predefined functions that are useful in network definition. Check out http://pytorch.org/docs/0.3.1/ and tutorials for an overview of the tools you can use."
   ]
  },
  {
   "cell_type": "markdown",
   "metadata": {},
   "source": [
    "## Comparing gradient descent methods\n",
    "\n",
    "In this notebook, we will use PyTorch to compare the different gradient methods and a toy 2D examples: we will try to find the minimum of the difference of two Gaussians. PyTorch provides a convenient wrapper to define parametrized functions, that we will use along this tutorial."
   ]
  },
  {
   "cell_type": "code",
   "execution_count": 22,
   "metadata": {},
   "outputs": [],
   "source": [
    "import torch.nn as nn\n",
    "from torch.nn import Parameter\n",
    "\n",
    "class Norm(nn.Module):\n",
    "    def __init__(self, p: float=2.):\n",
    "        super(Norm, self).__init__()\n",
    "        self.p = Parameter(torch.FloatTensor([p]))\n",
    "        \n",
    "    def forward(self, x):\n",
    "        return torch.pow(torch.sum(torch.pow(x, self.p), dim=0), 1 / self.p)"
   ]
  },
  {
   "cell_type": "code",
   "execution_count": 23,
   "metadata": {},
   "outputs": [],
   "source": [
    "x = torch.FloatTensor(n).uniform_()\n",
    "x = Variable(x)\n",
    "norm = Norm(p=3.)\n",
    "v = norm(x)\n",
    "v.backward()"
   ]
  },
  {
   "cell_type": "markdown",
   "metadata": {},
   "source": [
    "We can access $\\nabla_p(x \\to || x ||_p)$ in `norm.p.grad`"
   ]
  },
  {
   "cell_type": "code",
   "execution_count": 24,
   "metadata": {},
   "outputs": [
    {
     "data": {
      "text/plain": [
       "Variable containing:\n",
       "1.00000e-02 *\n",
       " -8.3478\n",
       "[torch.FloatTensor of size 1]"
      ]
     },
     "execution_count": 24,
     "metadata": {},
     "output_type": "execute_result"
    }
   ],
   "source": [
    "norm.p.grad"
   ]
  },
  {
   "cell_type": "markdown",
   "metadata": {},
   "source": [
    "We now define a Gaussian operator, along with a generic Gaussian combination. We will not consider the gradient w.r.t the parameters of these modules, hence we specify `requires_grad=False`"
   ]
  },
  {
   "cell_type": "code",
   "execution_count": 25,
   "metadata": {},
   "outputs": [],
   "source": [
    "from typing import List, Tuple\n",
    "\n",
    "class Gaussian(nn.Module):\n",
    "    def __init__(self, precision: torch.FloatTensor, mean: torch.FloatTensor):\n",
    "        super().__init__()\n",
    "\n",
    "        assert (precision.shape == (2, 2))\n",
    "        assert (mean.shape == (2,))\n",
    "\n",
    "        self.precision = Parameter(precision, requires_grad=False)\n",
    "        self.mean = Parameter(mean, requires_grad=False)\n",
    "\n",
    "    def forward(self, x: Variable):\n",
    "        \"\"\"Compute the likelihood of x given a Gaussian model.\n",
    "\n",
    "        https://en.wikipedia.org/wiki/Multivariate_normal_distributions\n",
    "\n",
    "        \"\"\"\n",
    "        # determinant = torch.potrf(self.precision).diag().prod()\n",
    "        # scale = (2 * math.pi) / torch.sqrt(determinant)\n",
    "        xc = x - self.mean\n",
    "        value = torch.exp(- .5 * (torch.sum((xc @ self.precision)\n",
    "                                            * xc, dim=1)))\n",
    "        return value  # / scale\n",
    "\n",
    "\n",
    "class GaussianCombination(nn.Module):\n",
    "    def __init__(self, precisions: List[torch.FloatTensor],\n",
    "                 means: List[torch.FloatTensor],\n",
    "                 weights: List[float]) -> None:\n",
    "        super().__init__()\n",
    "        assert (len(precisions) == len(means) == len(weights))\n",
    "        self.gaussians = nn.ModuleList()\n",
    "        for precision, mean in zip(precisions, means):\n",
    "            self.gaussians.append(Gaussian(precision, mean))\n",
    "        self.weights = weights\n",
    "\n",
    "    def forward(self, x: Variable) -> Variable:\n",
    "        res = 0\n",
    "        for gaussian, weight in zip(self.gaussians, self.weights):\n",
    "            res += gaussian(x) * weight\n",
    "        return res"
   ]
  },
  {
   "cell_type": "markdown",
   "metadata": {},
   "source": [
    "We now define $f(x) = \\exp(-(x- m_1)^T P_1 (x - m_1)) - \\exp(-(x- m_2)^T P_2 (x - m_2))$"
   ]
  },
  {
   "cell_type": "code",
   "execution_count": 26,
   "metadata": {},
   "outputs": [],
   "source": [
    "p1 = torch.FloatTensor([[1, 0], [0, 4]])\n",
    "m1 = torch.FloatTensor([0, 1])\n",
    "w1 = 1\n",
    "p2 = torch.FloatTensor([[2, 0], [0, 20]])\n",
    "m2 = torch.FloatTensor([0, -1])\n",
    "w2 = - 1\n",
    "\n",
    "f = GaussianCombination([p1, p2], [m1, m2], [w1, w2])"
   ]
  },
  {
   "cell_type": "markdown",
   "metadata": {},
   "source": [
    "We define a plotting function to visualize $f$. Note the small boilerplate to interface PyTorch with Numpy"
   ]
  },
  {
   "cell_type": "code",
   "execution_count": 27,
   "metadata": {},
   "outputs": [],
   "source": [
    "import matplotlib.pyplot as plt\n",
    "def plot_function(f, ax):\n",
    "    x_max, y_max, x_min, y_min = 3, 3, -3, -3\n",
    "    x = np.linspace(x_min, x_max, 100, dtype=np.float32)\n",
    "    y = np.linspace(y_min, y_max, 100, dtype=np.float32)\n",
    "    X, Y = np.meshgrid(x, y)\n",
    "    samples = np.concatenate((X[:, :, None], Y[:, :, None]), axis=2)\n",
    "    samples = samples.reshape(-1, 2)\n",
    "    samples = Variable(torch.from_numpy(samples), requires_grad=False)\n",
    "    Z = f(samples).data.numpy()\n",
    "    Z = Z.reshape(100, 100)\n",
    "    CS = ax.contour(X, Y, Z)\n",
    "    ax.clabel(CS, inline=1, fontsize=10)"
   ]
  },
  {
   "cell_type": "code",
   "execution_count": 28,
   "metadata": {},
   "outputs": [
    {
     "data": {
      "image/png": "[encoded data removed]",
      "text/plain": [
       "<matplotlib.figure.Figure at 0x7fc01a237b70>"
      ]
     },
     "metadata": {},
     "output_type": "display_data"
    }
   ],
   "source": [
    "fig, ax = plt.subplots(figsize=(8, 8))\n",
    "plot_function(f, ax)"
   ]
  },
  {
   "cell_type": "markdown",
   "metadata": {},
   "source": [
    "We will now try to minimize $f$ using gradient descent, with optional flavors. For this, we define a minimize function that performs gradient descent, along with a helper class `GradientDescent` that will perform the updates given the gradient"
   ]
  },
  {
   "cell_type": "code",
   "execution_count": 29,
   "metadata": {},
   "outputs": [],
   "source": [
    "class GradientDescent:\n",
    "    def __init__(self, params, lr=object(),\n",
    "                 ):\n",
    "        self.params = params\n",
    "        self.lr = lr\n",
    "        self.momentum = 0\n",
    "\n",
    "    def step(self):\n",
    "        for param in self.params:\n",
    "            param.data = param.data - self.lr * param.grad.data\n",
    "\n",
    "    def zero_grad(self):\n",
    "        for param in self.params:\n",
    "            if param.grad is not None:\n",
    "                param.grad.data.zero_()"
   ]
  },
  {
   "cell_type": "code",
   "execution_count": 33,
   "metadata": {},
   "outputs": [],
   "source": [
    "def minimize(f: nn.Module, lr: float, init: torch.FloatTensor,\n",
    "             optimizer: str = 'gradient_descent', max_iter: int = 100) \\\n",
    "        -> Tuple[torch.FloatTensor, torch.FloatTensor,]:\n",
    "    # Let us now use the power of autograd to write a very\n",
    "    # simple gradient descent algorithm\n",
    "    # Initialization: iterate is a Tensor\n",
    "    iterate = init[None, :].clone()\n",
    "    # We wrap iterate in a Variable. We added an extra dimension as f handles mini-batches (Tensor of size (?, 2))\n",
    "    iterate = Variable(iterate, requires_grad=True)\n",
    "    if optimizer == 'gradient_descent':\n",
    "        optimizer = GradientDescent([iterate], lr=lr)\n",
    "    else:\n",
    "        raise NotImplementedError\n",
    "\n",
    "    value_rec = []\n",
    "    iterate_rec = []\n",
    "\n",
    "    for i in range(max_iter):\n",
    "        # iterate.grad may be non zero. We free it\n",
    "        optimizer.zero_grad()\n",
    "        value = f(iterate)\n",
    "        value.backward()\n",
    "        # iterate.grad now holds $\\nabla_x f(x)$\n",
    "        \n",
    "        # We store the trajectory of the iterates\n",
    "        iterate_rec.append(iterate.data.clone())\n",
    "        print('Iteration %i: f(x) = %e, x = [%e, %e]'\n",
    "              % (i, value, iterate[0, 0], iterate[0, 1]))\n",
    "        # Perform the gradient step\n",
    "        optimizer.step()\n",
    "    iterate_rec = torch.cat(iterate_rec, dim=0)\n",
    "    return iterate_rec\n"
   ]
  },
  {
   "cell_type": "markdown",
   "metadata": {},
   "source": [
    "Run the minimization algorithm and plot it"
   ]
  },
  {
   "cell_type": "code",
   "execution_count": 34,
   "metadata": {},
   "outputs": [
    {
     "name": "stdout",
     "output_type": "stream",
     "text": [
      "Iteration 0: f(x) = 6.703200e-01, x = [8.000000e-01, 8.000000e-01]\n",
      "Iteration 1: f(x) = 6.107973e-01, x = [8.536256e-01, 7.463744e-01]\n",
      "Iteration 2: f(x) = 5.436768e-01, x = [9.057648e-01, 6.844089e-01]\n",
      "Iteration 3: f(x) = 4.717643e-01, x = [9.550092e-01, 6.157771e-01]\n",
      "Iteration 4: f(x) = 3.996109e-01, x = [1.000063e+00, 5.432720e-01]\n",
      "Iteration 5: f(x) = 3.321852e-01, x = [1.040027e+00, 4.702666e-01]\n",
      "Iteration 6: f(x) = 2.731740e-01, x = [1.074575e+00, 3.998788e-01]\n",
      "Iteration 7: f(x) = 2.241067e-01, x = [1.103929e+00, 3.343038e-01]\n",
      "Iteration 8: f(x) = 1.846536e-01, x = [1.128669e+00, 2.746290e-01]\n",
      "Iteration 9: f(x) = 1.534765e-01, x = [1.149510e+00, 2.210520e-01]\n",
      "Iteration 10: f(x) = 1.289647e-01, x = [1.167153e+00, 1.732316e-01]\n",
      "Iteration 11: f(x) = 1.096362e-01, x = [1.182205e+00, 1.305813e-01]\n",
      "Iteration 12: f(x) = 9.427724e-02, x = [1.195166e+00, 9.245165e-02]\n",
      "Iteration 13: f(x) = 8.194828e-02, x = [1.206433e+00, 5.822318e-02]\n",
      "Iteration 14: f(x) = 7.194041e-02, x = [1.216320e+00, 2.734441e-02]\n",
      "Iteration 15: f(x) = 6.372384e-02, x = [1.225069e+00, -6.593969e-04]\n",
      "Iteration 16: f(x) = 5.690251e-02, x = [1.232874e+00, -2.619034e-02]\n",
      "Iteration 17: f(x) = 5.117895e-02, x = [1.239888e+00, -4.958674e-02]\n",
      "Iteration 18: f(x) = 4.632775e-02, x = [1.246230e+00, -7.113301e-02]\n",
      "Iteration 19: f(x) = 4.217661e-02, x = [1.251999e+00, -9.106889e-02]\n",
      "Iteration 20: f(x) = 3.859239e-02, x = [1.257273e+00, -1.095973e-01]\n",
      "Iteration 21: f(x) = 3.547120e-02, x = [1.262115e+00, -1.268912e-01]\n",
      "Iteration 22: f(x) = 3.273115e-02, x = [1.266580e+00, -1.430985e-01]\n",
      "Iteration 23: f(x) = 3.030702e-02, x = [1.270709e+00, -1.583470e-01]\n",
      "Iteration 24: f(x) = 2.814643e-02, x = [1.274539e+00, -1.727475e-01]\n",
      "Iteration 25: f(x) = 2.620682e-02, x = [1.278099e+00, -1.863972e-01]\n",
      "Iteration 26: f(x) = 2.445344e-02, x = [1.281416e+00, -1.993813e-01]\n",
      "Iteration 27: f(x) = 2.285756e-02, x = [1.284508e+00, -2.117757e-01]\n",
      "Iteration 28: f(x) = 2.139524e-02, x = [1.287395e+00, -2.236480e-01]\n",
      "Iteration 29: f(x) = 2.004637e-02, x = [1.290090e+00, -2.350592e-01]\n",
      "Iteration 30: f(x) = 1.879389e-02, x = [1.292606e+00, -2.460645e-01]\n",
      "Iteration 31: f(x) = 1.762320e-02, x = [1.294953e+00, -2.567146e-01]\n",
      "Iteration 32: f(x) = 1.652160e-02, x = [1.297138e+00, -2.670563e-01]\n",
      "Iteration 33: f(x) = 1.547802e-02, x = [1.299169e+00, -2.771331e-01]\n",
      "Iteration 34: f(x) = 1.448254e-02, x = [1.301051e+00, -2.869860e-01]\n",
      "Iteration 35: f(x) = 1.352625e-02, x = [1.302787e+00, -2.966543e-01]\n",
      "Iteration 36: f(x) = 1.260092e-02, x = [1.304379e+00, -3.061758e-01]\n",
      "Iteration 37: f(x) = 1.169882e-02, x = [1.305830e+00, -3.155875e-01]\n",
      "Iteration 38: f(x) = 1.081249e-02, x = [1.307138e+00, -3.249261e-01]\n",
      "Iteration 39: f(x) = 9.934559e-03, x = [1.308303e+00, -3.342288e-01]\n",
      "Iteration 40: f(x) = 9.057519e-03, x = [1.309322e+00, -3.435335e-01]\n",
      "Iteration 41: f(x) = 8.173520e-03, x = [1.310192e+00, -3.528798e-01]\n",
      "Iteration 42: f(x) = 7.274074e-03, x = [1.310905e+00, -3.623095e-01]\n",
      "Iteration 43: f(x) = 6.349744e-03, x = [1.311456e+00, -3.718679e-01]\n",
      "Iteration 44: f(x) = 5.389727e-03, x = [1.311834e+00, -3.816044e-01]\n",
      "Iteration 45: f(x) = 4.381363e-03, x = [1.312029e+00, -3.915739e-01]\n",
      "Iteration 46: f(x) = 3.309376e-03, x = [1.312024e+00, -4.018387e-01]\n",
      "Iteration 47: f(x) = 2.154972e-03, x = [1.311803e+00, -4.124704e-01]\n",
      "Iteration 48: f(x) = 8.944469e-04, x = [1.311342e+00, -4.235523e-01]\n",
      "Iteration 49: f(x) = -5.027135e-04, x = [1.310613e+00, -4.351832e-01]\n",
      "Iteration 50: f(x) = -2.076616e-03, x = [1.309579e+00, -4.474818e-01]\n",
      "Iteration 51: f(x) = -3.881192e-03, x = [1.308194e+00, -4.605927e-01]\n",
      "Iteration 52: f(x) = -5.990471e-03, x = [1.306398e+00, -4.746949e-01]\n",
      "Iteration 53: f(x) = -8.508575e-03, x = [1.304115e+00, -4.900132e-01]\n",
      "Iteration 54: f(x) = -1.158541e-02, x = [1.301238e+00, -5.068339e-01]\n",
      "Iteration 55: f(x) = -1.544243e-02, x = [1.297628e+00, -5.255269e-01]\n",
      "Iteration 56: f(x) = -2.041535e-02, x = [1.293088e+00, -5.465759e-01]\n",
      "Iteration 57: f(x) = -2.702587e-02, x = [1.287340e+00, -5.706198e-01]\n",
      "Iteration 58: f(x) = -3.610164e-02, x = [1.279977e+00, -5.985034e-01]\n",
      "Iteration 59: f(x) = -4.896739e-02, x = [1.270395e+00, -6.313289e-01]\n",
      "Iteration 60: f(x) = -6.770216e-02, x = [1.257676e+00, -6.704616e-01]\n",
      "Iteration 61: f(x) = -9.529042e-02, x = [1.240432e+00, -7.173510e-01]\n",
      "Iteration 62: f(x) = -1.349414e-01, x = [1.216634e+00, -7.728102e-01]\n",
      "Iteration 63: f(x) = -1.871216e-01, x = [1.183691e+00, -8.351588e-01]\n",
      "Iteration 64: f(x) = -2.454277e-01, x = [1.139322e+00, -8.974766e-01]\n",
      "Iteration 65: f(x) = -3.007591e-01, x = [1.083354e+00, -9.481766e-01]\n",
      "Iteration 66: f(x) = -3.529344e-01, x = [1.018158e+00, -9.795973e-01]\n",
      "Iteration 67: f(x) = -4.080748e-01, x = [9.462651e-01, -9.941946e-01]\n",
      "Iteration 68: f(x) = -4.696879e-01, x = [8.690144e-01, -9.991144e-01]\n",
      "Iteration 69: f(x) = -5.377321e-01, x = [7.873612e-01, -1.000132e+00]\n",
      "Iteration 70: f(x) = -6.100796e-01, x = [7.026640e-01, -1.000187e+00]\n",
      "Iteration 71: f(x) = -6.831896e-01, x = [6.169094e-01, -1.000168e+00]\n",
      "Iteration 72: f(x) = -7.527303e-01, x = [5.325991e-01, -1.000160e+00]\n",
      "Iteration 73: f(x) = -8.146148e-01, x = [4.524029e-01, -1.000152e+00]\n",
      "Iteration 74: f(x) = -8.660951e-01, x = [3.786824e-01, -1.000146e+00]\n",
      "Iteration 75: f(x) = -9.063148e-01, x = [3.130756e-01, -1.000142e+00]\n",
      "Iteration 76: f(x) = -9.360890e-01, x = [2.563166e-01, -1.000140e+00]\n",
      "Iteration 77: f(x) = -9.572024e-01, x = [2.083212e-01, -1.000138e+00]\n",
      "Iteration 78: f(x) = -9.716983e-01, x = [1.684333e-01, -1.000136e+00]\n",
      "Iteration 79: f(x) = -9.814233e-01, x = [1.356944e-01, -1.000135e+00]\n",
      "Iteration 80: f(x) = -9.878441e-01, x = [1.090552e-01, -1.000135e+00]\n",
      "Iteration 81: f(x) = -9.920380e-01, x = [8.750566e-02, -1.000134e+00]\n",
      "Iteration 82: f(x) = -9.947579e-01, x = [7.014095e-02, -1.000135e+00]\n",
      "Iteration 83: f(x) = -9.965136e-01, x = [5.618395e-02, -1.000134e+00]\n",
      "Iteration 84: f(x) = -9.976435e-01, x = [4.498446e-02, -1.000134e+00]\n",
      "Iteration 85: f(x) = -9.983693e-01, x = [3.600726e-02, -1.000134e+00]\n",
      "Iteration 86: f(x) = -9.988348e-01, x = [2.881635e-02, -1.000134e+00]\n",
      "Iteration 87: f(x) = -9.991332e-01, x = [2.305883e-02, -1.000134e+00]\n",
      "Iteration 88: f(x) = -9.993244e-01, x = [1.845029e-02, -1.000134e+00]\n",
      "Iteration 89: f(x) = -9.994469e-01, x = [1.476210e-02, -1.000134e+00]\n",
      "Iteration 90: f(x) = -9.995252e-01, x = [1.181082e-02, -1.000134e+00]\n",
      "Iteration 91: f(x) = -9.995754e-01, x = [9.449383e-03, -1.000134e+00]\n",
      "Iteration 92: f(x) = -9.996076e-01, x = [7.559992e-03, -1.000134e+00]\n",
      "Iteration 93: f(x) = -9.996281e-01, x = [6.048334e-03, -1.000134e+00]\n",
      "Iteration 94: f(x) = -9.996413e-01, x = [4.838914e-03, -1.000134e+00]\n",
      "Iteration 95: f(x) = -9.996498e-01, x = [3.871316e-03, -1.000134e+00]\n",
      "Iteration 96: f(x) = -9.996551e-01, x = [3.097194e-03, -1.000134e+00]\n",
      "Iteration 97: f(x) = -9.996586e-01, x = [2.477865e-03, -1.000134e+00]\n",
      "Iteration 98: f(x) = -9.996608e-01, x = [1.982379e-03, -1.000134e+00]\n",
      "Iteration 99: f(x) = -9.996622e-01, x = [1.585971e-03, -1.000134e+00]\n",
      "Iteration 100: f(x) = -9.996631e-01, x = [1.268831e-03, -1.000134e+00]\n",
      "Iteration 101: f(x) = -9.996637e-01, x = [1.015107e-03, -1.000134e+00]\n",
      "Iteration 102: f(x) = -9.996641e-01, x = [8.121203e-04, -1.000134e+00]\n",
      "Iteration 103: f(x) = -9.996643e-01, x = [6.497236e-04, -1.000134e+00]\n",
      "Iteration 104: f(x) = -9.996644e-01, x = [5.198007e-04, -1.000134e+00]\n",
      "Iteration 105: f(x) = -9.996645e-01, x = [4.158580e-04, -1.000134e+00]\n",
      "Iteration 106: f(x) = -9.996646e-01, x = [3.327004e-04, -1.000134e+00]\n",
      "Iteration 107: f(x) = -9.996647e-01, x = [2.661715e-04, -1.000134e+00]\n",
      "Iteration 108: f(x) = -9.996647e-01, x = [2.129461e-04, -1.000134e+00]\n",
      "Iteration 109: f(x) = -9.996647e-01, x = [1.703640e-04, -1.000134e+00]\n",
      "Iteration 110: f(x) = -9.996647e-01, x = [1.362969e-04, -1.000134e+00]\n",
      "Iteration 111: f(x) = -9.996647e-01, x = [1.090421e-04, -1.000134e+00]\n",
      "Iteration 112: f(x) = -9.996647e-01, x = [8.723736e-05, -1.000134e+00]\n",
      "Iteration 113: f(x) = -9.996647e-01, x = [6.979281e-05, -1.000134e+00]\n",
      "Iteration 114: f(x) = -9.996647e-01, x = [5.583659e-05, -1.000134e+00]\n",
      "Iteration 115: f(x) = -9.996647e-01, x = [4.467115e-05, -1.000134e+00]\n",
      "Iteration 116: f(x) = -9.996647e-01, x = [3.573841e-05, -1.000134e+00]\n",
      "Iteration 117: f(x) = -9.996647e-01, x = [2.859193e-05, -1.000134e+00]\n",
      "Iteration 118: f(x) = -9.996647e-01, x = [2.287450e-05, -1.000134e+00]\n",
      "Iteration 119: f(x) = -9.996647e-01, x = [1.830037e-05, -1.000134e+00]\n",
      "Iteration 120: f(x) = -9.996647e-01, x = [1.464091e-05, -1.000134e+00]\n",
      "Iteration 121: f(x) = -9.996647e-01, x = [1.171322e-05, -1.000134e+00]\n",
      "Iteration 122: f(x) = -9.996647e-01, x = [9.370968e-06, -1.000134e+00]\n",
      "Iteration 123: f(x) = -9.996647e-01, x = [7.497089e-06, -1.000134e+00]\n",
      "Iteration 124: f(x) = -9.996647e-01, x = [5.997922e-06, -1.000134e+00]\n",
      "Iteration 125: f(x) = -9.996647e-01, x = [4.798539e-06, -1.000134e+00]\n",
      "Iteration 126: f(x) = -9.996647e-01, x = [3.838992e-06, -1.000134e+00]\n",
      "Iteration 127: f(x) = -9.996647e-01, x = [3.071322e-06, -1.000134e+00]\n",
      "Iteration 128: f(x) = -9.996647e-01, x = [2.457161e-06, -1.000134e+00]\n",
      "Iteration 129: f(x) = -9.996647e-01, x = [1.965811e-06, -1.000134e+00]\n",
      "Iteration 130: f(x) = -9.996647e-01, x = [1.572715e-06, -1.000134e+00]\n",
      "Iteration 131: f(x) = -9.996647e-01, x = [1.258225e-06, -1.000134e+00]\n",
      "Iteration 132: f(x) = -9.996647e-01, x = [1.006622e-06, -1.000134e+00]\n",
      "Iteration 133: f(x) = -9.996647e-01, x = [8.053312e-07, -1.000134e+00]\n",
      "Iteration 134: f(x) = -9.996647e-01, x = [6.442920e-07, -1.000134e+00]\n",
      "Iteration 135: f(x) = -9.996647e-01, x = [5.154552e-07, -1.000134e+00]\n",
      "Iteration 136: f(x) = -9.996647e-01, x = [4.123815e-07, -1.000134e+00]\n",
      "Iteration 137: f(x) = -9.996647e-01, x = [3.299190e-07, -1.000134e+00]\n",
      "Iteration 138: f(x) = -9.996647e-01, x = [2.639463e-07, -1.000134e+00]\n",
      "Iteration 139: f(x) = -9.996647e-01, x = [2.111659e-07, -1.000134e+00]\n",
      "Iteration 140: f(x) = -9.996647e-01, x = [1.689398e-07, -1.000134e+00]\n",
      "Iteration 141: f(x) = -9.996647e-01, x = [1.351575e-07, -1.000134e+00]\n",
      "Iteration 142: f(x) = -9.996647e-01, x = [1.081305e-07, -1.000134e+00]\n",
      "Iteration 143: f(x) = -9.996647e-01, x = [8.650806e-08, -1.000134e+00]\n",
      "Iteration 144: f(x) = -9.996647e-01, x = [6.920935e-08, -1.000134e+00]\n",
      "Iteration 145: f(x) = -9.996647e-01, x = [5.536980e-08, -1.000134e+00]\n",
      "Iteration 146: f(x) = -9.996647e-01, x = [4.429770e-08, -1.000134e+00]\n",
      "Iteration 147: f(x) = -9.996647e-01, x = [3.543964e-08, -1.000134e+00]\n",
      "Iteration 148: f(x) = -9.996647e-01, x = [2.835290e-08, -1.000134e+00]\n",
      "Iteration 149: f(x) = -9.996647e-01, x = [2.268327e-08, -1.000134e+00]\n",
      "Iteration 150: f(x) = -9.996647e-01, x = [1.814738e-08, -1.000134e+00]\n",
      "Iteration 151: f(x) = -9.996647e-01, x = [1.451851e-08, -1.000134e+00]\n",
      "Iteration 152: f(x) = -9.996647e-01, x = [1.161530e-08, -1.000134e+00]\n",
      "Iteration 153: f(x) = -9.996647e-01, x = [9.292628e-09, -1.000134e+00]\n",
      "Iteration 154: f(x) = -9.996647e-01, x = [7.434414e-09, -1.000134e+00]\n",
      "Iteration 155: f(x) = -9.996647e-01, x = [5.947780e-09, -1.000134e+00]\n",
      "Iteration 156: f(x) = -9.996647e-01, x = [4.758424e-09, -1.000134e+00]\n",
      "Iteration 157: f(x) = -9.996647e-01, x = [3.806899e-09, -1.000134e+00]\n",
      "Iteration 158: f(x) = -9.996647e-01, x = [3.045647e-09, -1.000134e+00]\n",
      "Iteration 159: f(x) = -9.996647e-01, x = [2.436620e-09, -1.000134e+00]\n",
      "Iteration 160: f(x) = -9.996647e-01, x = [1.949377e-09, -1.000134e+00]\n",
      "Iteration 161: f(x) = -9.996647e-01, x = [1.559567e-09, -1.000134e+00]\n",
      "Iteration 162: f(x) = -9.996647e-01, x = [1.247706e-09, -1.000134e+00]\n",
      "Iteration 163: f(x) = -9.996647e-01, x = [9.982067e-10, -1.000134e+00]\n",
      "Iteration 164: f(x) = -9.996647e-01, x = [7.985989e-10, -1.000134e+00]\n",
      "Iteration 165: f(x) = -9.996647e-01, x = [6.389059e-10, -1.000134e+00]\n",
      "Iteration 166: f(x) = -9.996647e-01, x = [5.111461e-10, -1.000134e+00]\n",
      "Iteration 167: f(x) = -9.996647e-01, x = [4.089341e-10, -1.000134e+00]\n",
      "Iteration 168: f(x) = -9.996647e-01, x = [3.271610e-10, -1.000134e+00]\n",
      "Iteration 169: f(x) = -9.996647e-01, x = [2.617397e-10, -1.000134e+00]\n",
      "Iteration 170: f(x) = -9.996647e-01, x = [2.094006e-10, -1.000134e+00]\n",
      "Iteration 171: f(x) = -9.996647e-01, x = [1.675275e-10, -1.000134e+00]\n",
      "Iteration 172: f(x) = -9.996647e-01, x = [1.340276e-10, -1.000134e+00]\n",
      "Iteration 173: f(x) = -9.996647e-01, x = [1.072266e-10, -1.000134e+00]\n",
      "Iteration 174: f(x) = -9.996647e-01, x = [8.578487e-11, -1.000134e+00]\n",
      "Iteration 175: f(x) = -9.996647e-01, x = [6.863077e-11, -1.000134e+00]\n",
      "Iteration 176: f(x) = -9.996647e-01, x = [5.490692e-11, -1.000134e+00]\n",
      "Iteration 177: f(x) = -9.996647e-01, x = [4.392738e-11, -1.000134e+00]\n",
      "Iteration 178: f(x) = -9.996647e-01, x = [3.514337e-11, -1.000134e+00]\n",
      "Iteration 179: f(x) = -9.996647e-01, x = [2.811588e-11, -1.000134e+00]\n",
      "Iteration 180: f(x) = -9.996647e-01, x = [2.249365e-11, -1.000134e+00]\n",
      "Iteration 181: f(x) = -9.996647e-01, x = [1.799567e-11, -1.000134e+00]\n",
      "Iteration 182: f(x) = -9.996647e-01, x = [1.439714e-11, -1.000134e+00]\n",
      "Iteration 183: f(x) = -9.996647e-01, x = [1.151820e-11, -1.000134e+00]\n",
      "Iteration 184: f(x) = -9.996647e-01, x = [9.214942e-12, -1.000134e+00]\n",
      "Iteration 185: f(x) = -9.996647e-01, x = [7.372263e-12, -1.000134e+00]\n",
      "Iteration 186: f(x) = -9.996647e-01, x = [5.898057e-12, -1.000134e+00]\n",
      "Iteration 187: f(x) = -9.996647e-01, x = [4.718643e-12, -1.000134e+00]\n",
      "Iteration 188: f(x) = -9.996647e-01, x = [3.775073e-12, -1.000134e+00]\n",
      "Iteration 189: f(x) = -9.996647e-01, x = [3.020185e-12, -1.000134e+00]\n",
      "Iteration 190: f(x) = -9.996647e-01, x = [2.416249e-12, -1.000134e+00]\n",
      "Iteration 191: f(x) = -9.996647e-01, x = [1.933081e-12, -1.000134e+00]\n",
      "Iteration 192: f(x) = -9.996647e-01, x = [1.546529e-12, -1.000134e+00]\n",
      "Iteration 193: f(x) = -9.996647e-01, x = [1.237275e-12, -1.000134e+00]\n",
      "Iteration 194: f(x) = -9.996647e-01, x = [9.898618e-13, -1.000134e+00]\n",
      "Iteration 195: f(x) = -9.996647e-01, x = [7.919227e-13, -1.000134e+00]\n",
      "Iteration 196: f(x) = -9.996647e-01, x = [6.335647e-13, -1.000134e+00]\n",
      "Iteration 197: f(x) = -9.996647e-01, x = [5.068730e-13, -1.000134e+00]\n",
      "Iteration 198: f(x) = -9.996647e-01, x = [4.055154e-13, -1.000134e+00]\n",
      "Iteration 199: f(x) = -9.996647e-01, x = [3.244260e-13, -1.000134e+00]\n"
     ]
    }
   ],
   "source": [
    "init = torch.FloatTensor([.8, .8])\n",
    "lr = .1\n",
    "iterate_rec = minimize(f, lr, init, max_iter=200)"
   ]
  },
  {
   "cell_type": "code",
   "execution_count": 35,
   "metadata": {},
   "outputs": [],
   "source": [
    "def plot_trace(iterate_rec, ax, label=None):\n",
    "    iterate_rec = iterate_rec.numpy()\n",
    "    line = ax.plot(iterate_rec[:, 0], iterate_rec[:, 1], linestyle=':',\n",
    "            marker='o', markersize=2, label=label)\n",
    "    color = plt.getp(line[0], 'color')\n",
    "    bbox_props = dict(boxstyle=\"square,pad=0.3\", ec=color, fc='white',\n",
    "                      lw=1)\n",
    "    for i in range(0, len(iterate_rec), len(iterate_rec) // 10):\n",
    "        ax.annotate(i, xy=(iterate_rec[i, 0], iterate_rec[i, 1]),\n",
    "                    xycoords='data',\n",
    "                    xytext=(5 + np.random.uniform(-2, 2),\n",
    "                            5 + np.random.uniform(-2, 2)),\n",
    "                    textcoords='offset points',\n",
    "                    bbox=bbox_props\n",
    "                    )"
   ]
  },
  {
   "cell_type": "code",
   "execution_count": 36,
   "metadata": {},
   "outputs": [
    {
     "data": {
      "image/png": "[encoded data removed]",
      "text/plain": [
       "<matplotlib.figure.Figure at 0x7fc01423e780>"
      ]
     },
     "metadata": {},
     "output_type": "display_data"
    }
   ],
   "source": [
    "fig, ax = plt.subplots(figsize=(8, 8))\n",
    "plot_function(f, ax)\n",
    "plot_trace(iterate_rec, ax, label='gradient_descent')"
   ]
  },
  {
   "cell_type": "markdown",
   "metadata": {},
   "source": [
    "## Exercice\n",
    "\n",
    "- Implement the MomemtumGradientDescent update\n",
    "- Check that it behaves as `GradientDescent` for `momemtum = 0`\n",
    "- Use `torch.optim.Adam` in the minimization loop\n",
    "- Compare the three trajectories"
   ]
  },
  {
   "cell_type": "code",
   "execution_count": 39,
   "metadata": {},
   "outputs": [],
   "source": [
    "from torch.optim import Adam\n",
    "\n",
    "class MomentumGradientDescent(GradientDescent):\n",
    "    def __init__(self, params, lr, momentum=.9):\n",
    "        super().__init__(params, lr)\n",
    "        self.momentum = momentum\n",
    "        self.velocities = [param.data.new(param.shape).zero_()\n",
    "                           for param in params]\n",
    "\n",
    "    def step(self):\n",
    "        # TODO\n",
    "        for i, (param, velocity) in enumerate(zip(self.params,\n",
    "                                                  self.velocities)):\n",
    "            velocity = self.momentum * velocity + (1 - self.momentum) \\\n",
    "                       * param.grad.data\n",
    "            param.data = param.data - self.lr * velocity\n",
    "            self.velocities[i] = velocity\n",
    "            \n",
    "            \n",
    "def minimize(f: nn.Module, lr: float, init: torch.FloatTensor,\n",
    "             optimizer: str = 'gradient_descent', max_iter: int = 100, verbose=True) \\\n",
    "        -> Tuple[torch.FloatTensor, torch.FloatTensor,]:\n",
    "    # Initialization: iterate is a Tensor\n",
    "    iterate = init[None, :].clone()\n",
    "    # We wrap iterate in a Variable. We added an extra dimension as f handles mini-batches (Tensor of size (?, 2))\n",
    "    iterate = Variable(iterate, requires_grad=True)\n",
    "    if optimizer == 'gradient_descent':\n",
    "        optimizer = GradientDescent([iterate], lr=lr)\n",
    "    elif optimizer == 'momentum':\n",
    "        optimizer =  MomentumGradientDescent([iterate], lr=lr)\n",
    "    elif optimizer == 'adam':\n",
    "        optimizer = Adam([iterate], lr=lr)\n",
    "    else:\n",
    "        raise NotImplementedError\n",
    "\n",
    "    value_rec = []\n",
    "    iterate_rec = []\n",
    "\n",
    "    for i in range(max_iter):\n",
    "        # iterate.grad may be non zero. We free it\n",
    "        optimizer.zero_grad()\n",
    "        value = f(iterate)\n",
    "        value.backward()\n",
    "        # iterate.grad now holds $\\nabla_x f(x)$\n",
    "        \n",
    "        # We store the trajectory of the iterates\n",
    "        iterate_rec.append(iterate.data.clone())\n",
    "        if verbose:\n",
    "            print('Iteration %i: f(x) = %e, x = [%e, %e]'\n",
    "                  % (i, value, iterate[0, 0], iterate[0, 1]))\n",
    "        # Perform the gradient step\n",
    "        optimizer.step()\n",
    "    iterate_rec = torch.cat(iterate_rec, dim=0)\n",
    "    return iterate_rec"
   ]
  },
  {
   "cell_type": "code",
   "execution_count": 40,
   "metadata": {},
   "outputs": [
    {
     "data": {
      "text/plain": [
       "<matplotlib.legend.Legend at 0x7fc014250358>"
      ]
     },
     "execution_count": 40,
     "metadata": {},
     "output_type": "execute_result"
    },
    {
     "data": {
      "image/png": "[encoded data removed]",
      "text/plain": [
       "<matplotlib.figure.Figure at 0x7fc01419d5f8>"
      ]
     },
     "metadata": {},
     "output_type": "display_data"
    }
   ],
   "source": [
    "fig, ax = plt.subplots(figsize=(8, 8))\n",
    "plot_function(f, ax)\n",
    "iterate_rec = minimize(f, lr, init=init, max_iter=200,\n",
    "                                  optimizer='gradient_descent', verbose=False)\n",
    "plot_trace(iterate_rec, ax, label='gradient_descent')\n",
    "iterate_rec = minimize(f, lr, init=init, max_iter=200,\n",
    "                                  optimizer='momentum', verbose=False)\n",
    "plot_trace(iterate_rec, ax, label='momentum')\n",
    "iterate_rec = minimize(f, lr, init=init, max_iter=100,\n",
    "                                  optimizer='adam', verbose=False)\n",
    "plot_trace(iterate_rec, ax, label='adam')\n",
    "ax.legend()"
   ]
  },
  {
   "cell_type": "markdown",
   "metadata": {},
   "source": [
    "What do you observe ? Try changin the momentum and the initialization to compare optimization traces"
   ]
  }
 ],
 "metadata": {
  "kernelspec": {
   "display_name": "Python 3",
   "language": "python",
   "name": "python3"
  },
  "language_info": {
   "codemirror_mode": {
    "name": "ipython",
    "version": 3
   },
   "file_extension": ".py",
   "mimetype": "text/x-python",
   "name": "python",
   "nbconvert_exporter": "python",
   "pygments_lexer": "ipython3",
   "version": "3.6.4"
  }
 },
 "nbformat": 4,
 "nbformat_minor": 2
}
