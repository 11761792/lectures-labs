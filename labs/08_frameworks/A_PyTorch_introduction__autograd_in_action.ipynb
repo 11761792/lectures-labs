{
 "cells": [
  {
   "cell_type": "markdown",
   "metadata": {},
   "source": [
    "# Introduction to Pytorch\n",
    "\n",
    "PyTorch is a popular deep learning framework that was introduced around one year ago. It has a slightly lower-level API than Keras, but is much easier to use than TensorFlow when it comes to defining custom model. It is very popular among researchers and kagglers - a little less in the industry (yet).\n",
    "\n",
    "http://pytorch.org/"
   ]
  },
  {
   "cell_type": "markdown",
   "metadata": {},
   "source": [
    "## Principles\n",
    "\n",
    "PyTorch essentially provides the user with two main utilies:\n",
    "\n",
    "- It allows to perform Tensor/vector computation on the GPU with an API similar (but not compatible) to Numpy.\n",
    "\n",
    "- It records all computation to be able to backpropagate through them. That is, provided a sequence of operations that starts from a tensor $\\theta$ to define a scalar $g(\\theta)$, it is able to compute \n",
    "$\\nabla_\\theta g(\\theta)$ exactly, with only one function call.\n",
    "\n",
    "Typically, $\\theta$ will be a parameter of a neural network and $g$ a loss function such as $\\ell(f_{\\theta}(x), y)$ for supervised learning. \n",
    "\n",
    "The essential difference with TensorFlow lies in the way $g$ is defined: in PyTorch, every node in the computation graph is done while executing the forward pass, from within the Python interpreter: any Numpy code can be ported to PyTorch easily, and all flow control operation (e.g. loops, if/else, etc.) can be kept untouched. In contrast, TensorFlow requires the user to define a graph more declaratively. This graph is then used internally (i.e. outside the Python interpreter), to compute both the the predictions, the loss value and its derivatives.\n",
    "\n",
    "PyTorch takes care of recording everything it needs to do the backpropagation, *on the fly*.\n",
    "\n",
    "Note that recent versions of TensorFlow (1.5 and later) now come with the [eager mode](https://github.com/tensorflow/tensorflow/blob/master/tensorflow/contrib/eager/python/g3doc/guide.md) to make TensorFlow use the define-by-run semantics of PyTorch (and Chainer). However this mode is quite new and still experimental."
   ]
  },
  {
   "cell_type": "markdown",
   "metadata": {},
   "source": [
    "## Installation\n",
    "\n",
    "We will use the CPU only version for the moment. We will assume that you have a working Anaconda environment.\n",
    "\n",
    "### On Linux:\n",
    "\n",
    "`conda install pytorch-cpu torchvision -c pytorch`\n",
    "\n",
    "If you prefer to use pip, see: http://pytorch.org.\n",
    "\n",
    "### On OSX\n",
    "\n",
    "`conda install pytorch torchvision -c pytorch`\n",
    "\n",
    "If you prefer to use pip, see: http://pytorch.org.\n",
    "\n",
    "### On Windows\n",
    "\n",
    "`conda install -c peterjc123 pytorch-cpu`\n",
    "\n",
    "Refer to https://github.com/peterjc123/pytorch-scripts for Windows installation problems."
   ]
  },
  {
   "cell_type": "markdown",
   "metadata": {},
   "source": [
    "## A first example\n",
    "\n",
    "We will define a vector $x \\in \\mathbb{R}^n$ and computes its norms using PyTorch. For this, we will define our first `Tensor` -- the Tensor object is the central element of PyTorch.\n",
    "\n",
    "Let us fill this vector with random values"
   ]
  },
  {
   "cell_type": "code",
   "execution_count": 1,
   "metadata": {},
   "outputs": [],
   "source": [
    "import torch\n",
    "\n",
    "torch.manual_seed(42)\n",
    "\n",
    "n = 3\n",
    "x = torch.FloatTensor(n).uniform_()"
   ]
  },
  {
   "cell_type": "markdown",
   "metadata": {},
   "source": [
    "`x` is a tensor, which can be manipulated roughly as a Numpy array:"
   ]
  },
  {
   "cell_type": "code",
   "execution_count": 2,
   "metadata": {},
   "outputs": [
    {
     "data": {
      "text/plain": [
       "\n",
       " 0.8823\n",
       " 0.9150\n",
       " 0.3829\n",
       "[torch.FloatTensor of size 3]"
      ]
     },
     "execution_count": 2,
     "metadata": {},
     "output_type": "execute_result"
    }
   ],
   "source": [
    "x"
   ]
  },
  {
   "cell_type": "markdown",
   "metadata": {},
   "source": [
    "Let's do a small API tour"
   ]
  },
  {
   "cell_type": "code",
   "execution_count": 3,
   "metadata": {},
   "outputs": [
    {
     "data": {
      "text/plain": [
       "(torch.Size([3]), 3)"
      ]
     },
     "execution_count": 3,
     "metadata": {},
     "output_type": "execute_result"
    }
   ],
   "source": [
    "x.shape, x.shape[0]"
   ]
  },
  {
   "cell_type": "code",
   "execution_count": 4,
   "metadata": {},
   "outputs": [
    {
     "data": {
      "text/plain": [
       "\n",
       " 8.8227\n",
       " 9.1500\n",
       " 3.8286\n",
       "[torch.FloatTensor of size 3]"
      ]
     },
     "execution_count": 4,
     "metadata": {},
     "output_type": "execute_result"
    }
   ],
   "source": [
    "x * 10"
   ]
  },
  {
   "cell_type": "markdown",
   "metadata": {},
   "source": [
    "We can go back and forth from numpy to PyTorch tensors:"
   ]
  },
  {
   "cell_type": "code",
   "execution_count": 5,
   "metadata": {},
   "outputs": [],
   "source": [
    "x_np = x.numpy()"
   ]
  },
  {
   "cell_type": "code",
   "execution_count": 6,
   "metadata": {},
   "outputs": [
    {
     "data": {
      "text/plain": [
       "\n",
       " 1  1  1\n",
       " 1  1  1\n",
       " 1  1  1\n",
       "[torch.DoubleTensor of size 3x3]"
      ]
     },
     "execution_count": 6,
     "metadata": {},
     "output_type": "execute_result"
    }
   ],
   "source": [
    "import numpy as np\n",
    "\n",
    "A = torch.from_numpy(np.ones((n, n)))\n",
    "\n",
    "A"
   ]
  },
  {
   "cell_type": "markdown",
   "metadata": {},
   "source": [
    "Note that all tensors are typed and that you can only do operations with tensors of the same type:"
   ]
  },
  {
   "cell_type": "code",
   "execution_count": 7,
   "metadata": {},
   "outputs": [
    {
     "ename": "TypeError",
     "evalue": "torch.mv received an invalid combination of arguments - got (\u001b[32;1mtorch.DoubleTensor\u001b[0m, \u001b[31;1mtorch.FloatTensor\u001b[0m), but expected (torch.DoubleTensor source, torch.DoubleTensor vec)",
     "output_type": "error",
     "traceback": [
      "\u001b[0;31m---------------------------------------------------------------------------\u001b[0m",
      "\u001b[0;31mTypeError\u001b[0m                                 Traceback (most recent call last)",
      "\u001b[0;32m<ipython-input-7-a4f701ea6e16>\u001b[0m in \u001b[0;36m<module>\u001b[0;34m()\u001b[0m\n\u001b[0;32m----> 1\u001b[0;31m \u001b[0mtorch\u001b[0m\u001b[0;34m.\u001b[0m\u001b[0mmatmul\u001b[0m\u001b[0;34m(\u001b[0m\u001b[0mA\u001b[0m\u001b[0;34m,\u001b[0m \u001b[0mx\u001b[0m\u001b[0;34m)\u001b[0m\u001b[0;34m\u001b[0m\u001b[0m\n\u001b[0m",
      "\u001b[0;32m/opt/miniconda3/lib/python3.6/site-packages/torch/functional.py\u001b[0m in \u001b[0;36mmatmul\u001b[0;34m(tensor1, tensor2, out)\u001b[0m\n\u001b[1;32m    162\u001b[0m     \u001b[0;32mif\u001b[0m \u001b[0mdim_tensor1\u001b[0m \u001b[0;34m==\u001b[0m \u001b[0;36m2\u001b[0m \u001b[0;32mand\u001b[0m \u001b[0mdim_tensor2\u001b[0m \u001b[0;34m==\u001b[0m \u001b[0;36m1\u001b[0m\u001b[0;34m:\u001b[0m\u001b[0;34m\u001b[0m\u001b[0m\n\u001b[1;32m    163\u001b[0m         \u001b[0;32mif\u001b[0m \u001b[0mout\u001b[0m \u001b[0;32mis\u001b[0m \u001b[0;32mNone\u001b[0m\u001b[0;34m:\u001b[0m\u001b[0;34m\u001b[0m\u001b[0m\n\u001b[0;32m--> 164\u001b[0;31m             \u001b[0;32mreturn\u001b[0m \u001b[0mtorch\u001b[0m\u001b[0;34m.\u001b[0m\u001b[0mmv\u001b[0m\u001b[0;34m(\u001b[0m\u001b[0mtensor1\u001b[0m\u001b[0;34m,\u001b[0m \u001b[0mtensor2\u001b[0m\u001b[0;34m)\u001b[0m\u001b[0;34m\u001b[0m\u001b[0m\n\u001b[0m\u001b[1;32m    165\u001b[0m         \u001b[0;32melse\u001b[0m\u001b[0;34m:\u001b[0m\u001b[0;34m\u001b[0m\u001b[0m\n\u001b[1;32m    166\u001b[0m             \u001b[0;32mreturn\u001b[0m \u001b[0mtorch\u001b[0m\u001b[0;34m.\u001b[0m\u001b[0mmv\u001b[0m\u001b[0;34m(\u001b[0m\u001b[0mtensor1\u001b[0m\u001b[0;34m,\u001b[0m \u001b[0mtensor2\u001b[0m\u001b[0;34m,\u001b[0m \u001b[0mout\u001b[0m\u001b[0;34m=\u001b[0m\u001b[0mout\u001b[0m\u001b[0;34m)\u001b[0m\u001b[0;34m\u001b[0m\u001b[0m\n",
      "\u001b[0;31mTypeError\u001b[0m: torch.mv received an invalid combination of arguments - got (\u001b[32;1mtorch.DoubleTensor\u001b[0m, \u001b[31;1mtorch.FloatTensor\u001b[0m), but expected (torch.DoubleTensor source, torch.DoubleTensor vec)"
     ]
    }
   ],
   "source": [
    "torch.matmul(A, x)"
   ]
  },
  {
   "cell_type": "code",
   "execution_count": 8,
   "metadata": {},
   "outputs": [
    {
     "data": {
      "text/plain": [
       "\n",
       " 2.1801\n",
       " 2.1801\n",
       " 2.1801\n",
       "[torch.FloatTensor of size 3]"
      ]
     },
     "execution_count": 8,
     "metadata": {},
     "output_type": "execute_result"
    }
   ],
   "source": [
    "torch.matmul(A.float(), x)"
   ]
  },
  {
   "cell_type": "code",
   "execution_count": 9,
   "metadata": {},
   "outputs": [
    {
     "data": {
      "text/plain": [
       "\n",
       " 2.1801\n",
       " 2.1801\n",
       " 2.1801\n",
       "[torch.FloatTensor of size 3]"
      ]
     },
     "execution_count": 9,
     "metadata": {},
     "output_type": "execute_result"
    }
   ],
   "source": [
    "A.float() @ x"
   ]
  },
  {
   "cell_type": "markdown",
   "metadata": {},
   "source": [
    "Let us now define a norm function that returns the norm of $x$"
   ]
  },
  {
   "cell_type": "code",
   "execution_count": 10,
   "metadata": {},
   "outputs": [],
   "source": [
    "def f(x):\n",
    "    return torch.sqrt(torch.sum(x ** 2, dim=0))"
   ]
  },
  {
   "cell_type": "code",
   "execution_count": 11,
   "metadata": {},
   "outputs": [
    {
     "data": {
      "text/plain": [
       "\n",
       " 1.3275\n",
       "[torch.FloatTensor of size 1]"
      ]
     },
     "execution_count": 11,
     "metadata": {},
     "output_type": "execute_result"
    }
   ],
   "source": [
    "f(x)"
   ]
  },
  {
   "cell_type": "markdown",
   "metadata": {},
   "source": [
    "We are now interested in computing $\\nabla_x f(x) = \\frac{x}{|| x ||_2}$. \n",
    "\n",
    "\n",
    "**Exercise**:\n",
    "\n",
    "- Show that if $f(x) = || x ||_2$ then $\\nabla_x f(x) = \\frac{x}{|| x ||_2}$.\n",
    "\n",
    "\n",
    "Assume we are too lazy to derive the analytical form of the gradient manually. Instead we will use the `autograd` facilities of PyTorch: central to it is the Variable class:"
   ]
  },
  {
   "cell_type": "code",
   "execution_count": 12,
   "metadata": {},
   "outputs": [],
   "source": [
    "from torch.autograd import Variable"
   ]
  },
  {
   "cell_type": "markdown",
   "metadata": {},
   "source": [
    "Variables are typically initialized by wrapping some tensor value:"
   ]
  },
  {
   "cell_type": "code",
   "execution_count": 13,
   "metadata": {},
   "outputs": [],
   "source": [
    "x = Variable(x, requires_grad=True)"
   ]
  },
  {
   "cell_type": "code",
   "execution_count": 14,
   "metadata": {},
   "outputs": [
    {
     "data": {
      "text/plain": [
       "Variable containing:\n",
       " 0.8823\n",
       " 0.9150\n",
       " 0.3829\n",
       "[torch.FloatTensor of size 3]"
      ]
     },
     "execution_count": 14,
     "metadata": {},
     "output_type": "execute_result"
    }
   ],
   "source": [
    "x"
   ]
  },
  {
   "cell_type": "code",
   "execution_count": 15,
   "metadata": {},
   "outputs": [
    {
     "data": {
      "text/plain": [
       "\n",
       " 0.8823\n",
       " 0.9150\n",
       " 0.3829\n",
       "[torch.FloatTensor of size 3]"
      ]
     },
     "execution_count": 15,
     "metadata": {},
     "output_type": "execute_result"
    }
   ],
   "source": [
    "x.data"
   ]
  },
  {
   "cell_type": "markdown",
   "metadata": {},
   "source": [
    "Let us now compute the norm of f. All PyTorch functions can handle both Variables and Tensors."
   ]
  },
  {
   "cell_type": "code",
   "execution_count": 16,
   "metadata": {},
   "outputs": [],
   "source": [
    "norm = f(x)"
   ]
  },
  {
   "cell_type": "code",
   "execution_count": 17,
   "metadata": {},
   "outputs": [
    {
     "data": {
      "text/plain": [
       "Variable containing:\n",
       " 1.3275\n",
       "[torch.FloatTensor of size 1]"
      ]
     },
     "execution_count": 17,
     "metadata": {},
     "output_type": "execute_result"
    }
   ],
   "source": [
    "norm"
   ]
  },
  {
   "cell_type": "markdown",
   "metadata": {},
   "source": [
    "We can compute the gradient of this scalar variable with respect to all the variables that were used to compute its value.\n",
    "\n",
    "The following `.backward()` call will assign `.grad` attributes to all Variables requires in $f$ computation for which a gradient is required."
   ]
  },
  {
   "cell_type": "code",
   "execution_count": 18,
   "metadata": {},
   "outputs": [],
   "source": [
    "norm.backward()"
   ]
  },
  {
   "cell_type": "markdown",
   "metadata": {},
   "source": [
    "The gradient $\\nabla_x f(x)$ can be found in `x.grad`, which is also a Variable"
   ]
  },
  {
   "cell_type": "code",
   "execution_count": 19,
   "metadata": {},
   "outputs": [
    {
     "data": {
      "text/plain": [
       "Variable containing:\n",
       " 0.6646\n",
       " 0.6893\n",
       " 0.2884\n",
       "[torch.FloatTensor of size 3]"
      ]
     },
     "execution_count": 19,
     "metadata": {},
     "output_type": "execute_result"
    }
   ],
   "source": [
    "x.grad"
   ]
  },
  {
   "cell_type": "markdown",
   "metadata": {},
   "source": [
    "Let us compare it to the result of the evaluation of the analytical expression of the derivative of f(x) given x:  $\\nabla_x f(x) = \\frac{x}{|| x ||_2}$"
   ]
  },
  {
   "cell_type": "code",
   "execution_count": 20,
   "metadata": {},
   "outputs": [],
   "source": [
    "expected_grad = x / f(x)"
   ]
  },
  {
   "cell_type": "code",
   "execution_count": 21,
   "metadata": {},
   "outputs": [
    {
     "data": {
      "text/plain": [
       "Variable containing:\n",
       " 0.6646\n",
       " 0.6893\n",
       " 0.2884\n",
       "[torch.FloatTensor of size 3]"
      ]
     },
     "execution_count": 21,
     "metadata": {},
     "output_type": "execute_result"
    }
   ],
   "source": [
    "expected_grad"
   ]
  },
  {
   "cell_type": "markdown",
   "metadata": {},
   "source": [
    "It works ! You now know everything you need to know to use PyTorch. Note that, similar to Keras, PyTorch comes with a number of predefined functions that are useful in network definition. Check out http://pytorch.org/docs/ and tutorials for an overview of the tools you can use."
   ]
  },
  {
   "cell_type": "markdown",
   "metadata": {},
   "source": [
    "**Exercises**\n",
    "\n",
    "- Write a function the pytorch code for function `g` that computes the cosine similarity of two variable vectors with float entries $\\mathbf{x}$ and $\\mathbf{y}$:\n",
    "\n",
    "$$g(\\mathbf{x}, \\mathbf{y}) = \\frac{\\mathbf{x}^T \\mathbf{y}}{|| \\mathbf{x} ||_2 || \\mathbf{y} ||_2 }$$\n",
    "\n",
    "- Use `torch.autograd` to compute the derivatives with respect to $\\mathbf{x} \\in \\mathbb{R}^3$ and $\\mathbf{y} \\in \\mathbb{R}^3$ for some values of your choice;\n",
    "\n",
    "- Compute $\\nabla_x g(x, y)$ and $\\nabla_y g(x, y)$ for some choice of $\\mathbf{x} = \\alpha \\cdot \\mathbf{y}$ with any $\\alpha \\in \\mathbb{R}$. Check that you can get the expected result with Pytorch."
   ]
  },
  {
   "cell_type": "code",
   "execution_count": 22,
   "metadata": {},
   "outputs": [
    {
     "data": {
      "text/plain": [
       "Variable containing:\n",
       " 9.1000\n",
       "[torch.FloatTensor of size 1]"
      ]
     },
     "execution_count": 22,
     "metadata": {},
     "output_type": "execute_result"
    }
   ],
   "source": [
    "def g(x, y):\n",
    "    # TODO: fix the following code to implement the cosine\n",
    "    # similarity function instead.\n",
    "    return torch.sum(x) + torch.sum(y)\n",
    "\n",
    "\n",
    "x = Variable(torch.FloatTensor([0, 1, 2]), requires_grad=True)\n",
    "y = Variable(torch.FloatTensor([3, 0.9, 2.2]), requires_grad=True)\n",
    "\n",
    "cosine = g(x, y)\n",
    "cosine"
   ]
  },
  {
   "cell_type": "code",
   "execution_count": 23,
   "metadata": {},
   "outputs": [],
   "source": [
    "# %load solutions/cosine_autograd.py"
   ]
  },
  {
   "cell_type": "code",
   "execution_count": 24,
   "metadata": {},
   "outputs": [],
   "source": [
    "# %load solutions/cosine_autograd_colinear.py"
   ]
  },
  {
   "cell_type": "markdown",
   "metadata": {},
   "source": [
    "Let's reinitialize our two variables to non colinear values:"
   ]
  },
  {
   "cell_type": "code",
   "execution_count": 25,
   "metadata": {},
   "outputs": [],
   "source": [
    "x = Variable(torch.FloatTensor([0, 1, 2]), requires_grad=True)\n",
    "y = Variable(torch.FloatTensor([3, 0.9, 2.2]), requires_grad=True)"
   ]
  },
  {
   "cell_type": "markdown",
   "metadata": {},
   "source": [
    "Execute the following cells several times (use `ctrl-enter`):"
   ]
  },
  {
   "cell_type": "code",
   "execution_count": 26,
   "metadata": {},
   "outputs": [
    {
     "name": "stdout",
     "output_type": "stream",
     "text": [
      "Variable containing:\n",
      " 9.1000\n",
      "[torch.FloatTensor of size 1]\n",
      "\n",
      "x Variable containing:\n",
      " 0.5000\n",
      " 1.5000\n",
      " 2.5000\n",
      "[torch.FloatTensor of size 3]\n",
      "\n",
      "y Variable containing:\n",
      " 3.5000\n",
      " 1.4000\n",
      " 2.7000\n",
      "[torch.FloatTensor of size 3]\n",
      "\n",
      "Variable containing:\n",
      " 0.1429\n",
      " 1.0714\n",
      " 0.9259\n",
      "[torch.FloatTensor of size 3]\n",
      "\n"
     ]
    }
   ],
   "source": [
    "cosine = g(x, y)\n",
    "print(cosine)\n",
    "cosine.backward()\n",
    "x.data.add_(0.5 * x.grad.data)\n",
    "y.data.add_(0.5 * y.grad.data)\n",
    "x.grad.data.zero_()\n",
    "y.grad.data.zero_()\n",
    "print(\"x\", x)\n",
    "print(\"y\", y)\n",
    "print(x / y)"
   ]
  },
  {
   "cell_type": "markdown",
   "metadata": {},
   "source": [
    "What do you observe?"
   ]
  },
  {
   "cell_type": "markdown",
   "metadata": {},
   "source": [
    "## Comparing gradient descent methods\n",
    "\n",
    "In this notebook, we will use PyTorch to compare the different gradient methods and a toy 2D examples: we will try to find the minimum of the difference of two Gaussians. PyTorch provides a convenient wrapper named `nn.Module` to define parametrized functions, that we will use along this tutorial."
   ]
  },
  {
   "cell_type": "code",
   "execution_count": 27,
   "metadata": {},
   "outputs": [],
   "source": [
    "import torch.nn as nn\n",
    "from torch.nn import Parameter\n",
    "\n",
    "class Norm(nn.Module):\n",
    "\n",
    "    def __init__(self, p=2.):\n",
    "        super(Norm, self).__init__()\n",
    "        self.p = Parameter(torch.FloatTensor([p]))\n",
    "        \n",
    "    def forward(self, x):\n",
    "        p_sum = torch.sum(torch.pow(x, self.p), dim=0)\n",
    "        return torch.pow(p_sum, 1 / self.p)"
   ]
  },
  {
   "cell_type": "code",
   "execution_count": 28,
   "metadata": {},
   "outputs": [],
   "source": [
    "torch.manual_seed(42)\n",
    "\n",
    "x = torch.FloatTensor(n).uniform_()\n",
    "x = Variable(x)\n",
    "norm = Norm(p=3.)\n",
    "v = norm(x)\n",
    "v.backward()"
   ]
  },
  {
   "cell_type": "markdown",
   "metadata": {},
   "source": [
    "We can access $\\nabla_p(x \\to || x ||_p)$ in `norm.p.grad`"
   ]
  },
  {
   "cell_type": "code",
   "execution_count": 29,
   "metadata": {},
   "outputs": [
    {
     "data": {
      "text/plain": [
       "Variable containing:\n",
       "-0.1051\n",
       "[torch.FloatTensor of size 1]"
      ]
     },
     "execution_count": 29,
     "metadata": {},
     "output_type": "execute_result"
    }
   ],
   "source": [
    "norm.p.grad"
   ]
  },
  {
   "cell_type": "markdown",
   "metadata": {},
   "source": [
    "We now define a Gaussian operator, along with a generic Gaussian combination. We will not consider the gradient w.r.t the parameters of these modules, hence we specify `requires_grad=False`"
   ]
  },
  {
   "cell_type": "code",
   "execution_count": 30,
   "metadata": {},
   "outputs": [],
   "source": [
    "class Gaussian(nn.Module):\n",
    "\n",
    "    def __init__(self, precision, mean):\n",
    "        super(Gaussian, self).__init__()\n",
    "\n",
    "        assert precision.shape == (2, 2)\n",
    "        assert mean.shape == (2,)\n",
    "\n",
    "        self.precision = Parameter(precision, requires_grad=False)\n",
    "        self.mean = Parameter(mean, requires_grad=False)\n",
    "\n",
    "    def forward(self, x):\n",
    "        \"\"\"Compute the (unormalized) likelihood of x given a Gaussian.\n",
    "        \n",
    "        x can be a 2D-vector or a batch of 2D-vectors.\n",
    "        \"\"\"\n",
    "        xc = x - self.mean\n",
    "        if len(xc.shape) == 1:\n",
    "            # Reshape xc to work as a mini-batch.\n",
    "            xc = xc.view(1, -1)\n",
    "        value = torch.exp(-.5 * (torch.sum((xc @ self.precision) * xc, dim=1)))\n",
    "        return value\n",
    "\n",
    "\n",
    "class GaussianCombination(nn.Module):\n",
    "\n",
    "    def __init__(self, precisions, means, weights):\n",
    "        super(GaussianCombination, self).__init__()\n",
    "        assert len(precisions) == len(means) == len(weights)\n",
    "        self.gaussians = nn.ModuleList()\n",
    "        for precision, mean in zip(precisions, means):\n",
    "            self.gaussians.append(Gaussian(precision, mean))\n",
    "        self.weights = weights\n",
    "\n",
    "    def forward(self, x):\n",
    "        return sum(w * g(x) for g, w in zip(self.gaussians, self.weights))"
   ]
  },
  {
   "cell_type": "markdown",
   "metadata": {},
   "source": [
    "We now define $f(x) = \\exp(-(x- m_1)^T P_1 (x - m_1)) - \\exp(-(x- m_2)^T P_2 (x - m_2))$"
   ]
  },
  {
   "cell_type": "code",
   "execution_count": 31,
   "metadata": {},
   "outputs": [],
   "source": [
    "p1 = torch.FloatTensor([[1, 0], [0, 4]])\n",
    "m1 = torch.FloatTensor([0, 1])\n",
    "w1 = 1\n",
    "p2 = torch.FloatTensor([[1, -2], [-2, 10]])\n",
    "m2 = torch.FloatTensor([0, -2])\n",
    "w2 = - 1\n",
    "\n",
    "f = GaussianCombination([p1, p2], [m1, m2], [w1, w2])"
   ]
  },
  {
   "cell_type": "markdown",
   "metadata": {},
   "source": [
    "We define a plotting function to visualize $f$. Note the small boilerplate to interface PyTorch with Numpy"
   ]
  },
  {
   "cell_type": "code",
   "execution_count": 32,
   "metadata": {},
   "outputs": [],
   "source": [
    "import matplotlib.pyplot as plt\n",
    "\n",
    "\n",
    "def plot_function(f, ax):\n",
    "    x_max, y_max, x_min, y_min = 3, 3, -3, -3\n",
    "    x = np.linspace(x_min, x_max, 100, dtype=np.float32)\n",
    "    y = np.linspace(y_min, y_max, 100, dtype=np.float32)\n",
    "    X, Y = np.meshgrid(x, y)\n",
    "    samples = np.concatenate((X[:, :, None], Y[:, :, None]), axis=2)\n",
    "    samples = samples.reshape(-1, 2)\n",
    "    samples = Variable(torch.from_numpy(samples), requires_grad=False)\n",
    "    Z = f(samples).data.numpy()\n",
    "    Z = Z.reshape(100, 100)\n",
    "    CS = ax.contour(X, Y, Z)\n",
    "    ax.clabel(CS, inline=1, fontsize=10)"
   ]
  },
  {
   "cell_type": "code",
   "execution_count": 33,
   "metadata": {},
   "outputs": [
    {
     "data": {
      "image/png": "[encoded data removed]",
      "text/plain": [
       "<matplotlib.figure.Figure at 0x7f5b6f0b0208>"
      ]
     },
     "metadata": {},
     "output_type": "display_data"
    }
   ],
   "source": [
    "fig, ax = plt.subplots(figsize=(8, 8))\n",
    "plot_function(f, ax)"
   ]
  },
  {
   "cell_type": "markdown",
   "metadata": {},
   "source": [
    "We will now try to minimize $f$ using gradient descent, with optional flavors. For this, we define a minimize function that performs gradient descent, along with a helper class `GradientDescent` that will perform the updates given the gradient"
   ]
  },
  {
   "cell_type": "code",
   "execution_count": 34,
   "metadata": {},
   "outputs": [],
   "source": [
    "class GradientDescent:\n",
    "    \n",
    "    def __init__(self, params, lr=0.1):\n",
    "        self.params = params\n",
    "        self.lr = lr\n",
    "\n",
    "    def step(self):\n",
    "        for param in self.params:\n",
    "            param.data = param.data - self.lr * param.grad.data\n",
    "\n",
    "    def zero_grad(self):\n",
    "        for param in self.params:\n",
    "            if param.grad is not None:\n",
    "                param.grad.data.zero_()"
   ]
  },
  {
   "cell_type": "code",
   "execution_count": 46,
   "metadata": {},
   "outputs": [],
   "source": [
    "def minimize(f, optimizer, max_iter=500, verbose=False):\n",
    "    if hasattr(optimizer, 'params'):\n",
    "        [iterate] = optimizer.params\n",
    "    else:\n",
    "        # For pytorch optimizers.\n",
    "        [iterate] = optimizer.param_groups[0]['params']\n",
    "    iterate_record = []\n",
    "\n",
    "    for i in range(max_iter):\n",
    "        # iterate.grad may be non zero. We zero it first:\n",
    "        optimizer.zero_grad()\n",
    "        value = f(iterate)\n",
    "        \n",
    "        # Compute the gradient of f with respect to the parameters:\n",
    "        value.backward()\n",
    "        # iterate.grad now holds $\\nabla_x f(x)$\n",
    "        if float(torch.sum(iterate.grad ** 2)) < 1e-6:\n",
    "            if verbose:\n",
    "                print(\"Converged!\")\n",
    "            break\n",
    "        \n",
    "        # We store the trajectory of the iterates\n",
    "        iterate_record.append(iterate.data.clone()[None, :])\n",
    "        if verbose:\n",
    "            print('Iteration %i: f(x) = %e, x = [%e, %e]'\n",
    "                  % (i, value, iterate[0], iterate[1]))\n",
    "\n",
    "        # Perform the parameter update step using the gradient\n",
    "        # values:\n",
    "        optimizer.step()\n",
    "    iterate_record = torch.cat(iterate_record, dim=0)\n",
    "    return iterate_record"
   ]
  },
  {
   "cell_type": "markdown",
   "metadata": {},
   "source": [
    "Run the minimization algorithm and plot it"
   ]
  },
  {
   "cell_type": "code",
   "execution_count": 47,
   "metadata": {},
   "outputs": [
    {
     "name": "stdout",
     "output_type": "stream",
     "text": [
      "Iteration 0: f(x) = 6.703200e-01, x = [8.000000e-01, 8.000000e-01]\n",
      "Iteration 1: f(x) = 6.107973e-01, x = [8.536256e-01, 7.463744e-01]\n",
      "Iteration 2: f(x) = 5.436768e-01, x = [9.057648e-01, 6.844089e-01]\n",
      "Iteration 3: f(x) = 4.717643e-01, x = [9.550092e-01, 6.157771e-01]\n",
      "Iteration 4: f(x) = 3.996109e-01, x = [1.000063e+00, 5.432720e-01]\n",
      "Iteration 5: f(x) = 3.321852e-01, x = [1.040027e+00, 4.702666e-01]\n",
      "Iteration 6: f(x) = 2.731740e-01, x = [1.074575e+00, 3.998788e-01]\n",
      "Iteration 7: f(x) = 2.241067e-01, x = [1.103929e+00, 3.343038e-01]\n",
      "Iteration 8: f(x) = 1.846537e-01, x = [1.128669e+00, 2.746290e-01]\n",
      "Iteration 9: f(x) = 1.534766e-01, x = [1.149510e+00, 2.210520e-01]\n",
      "Iteration 10: f(x) = 1.289651e-01, x = [1.167153e+00, 1.732319e-01]\n",
      "Iteration 11: f(x) = 1.096372e-01, x = [1.182205e+00, 1.305822e-01]\n",
      "Iteration 12: f(x) = 9.427955e-02, x = [1.195166e+00, 9.245397e-02]\n",
      "Iteration 13: f(x) = 8.195306e-02, x = [1.206434e+00, 5.822871e-02]\n",
      "Iteration 14: f(x) = 7.194943e-02, x = [1.216321e+00, 2.735619e-02]\n",
      "Iteration 15: f(x) = 6.373953e-02, x = [1.225073e+00, -6.364472e-04]\n",
      "Iteration 16: f(x) = 5.692820e-02, x = [1.232881e+00, -2.614877e-02]\n",
      "Iteration 17: f(x) = 5.121874e-02, x = [1.239900e+00, -4.951595e-02]\n",
      "Iteration 18: f(x) = 4.638671e-02, x = [1.246251e+00, -7.101858e-02]\n",
      "Iteration 19: f(x) = 4.226068e-02, x = [1.252032e+00, -9.089199e-02]\n",
      "Iteration 20: f(x) = 3.870839e-02, x = [1.257323e+00, -1.093341e-01]\n",
      "Iteration 21: f(x) = 3.562682e-02, x = [1.262191e+00, -1.265122e-01]\n",
      "Iteration 22: f(x) = 3.293489e-02, x = [1.266688e+00, -1.425684e-01]\n",
      "Iteration 23: f(x) = 3.056818e-02, x = [1.270860e+00, -1.576238e-01]\n",
      "Iteration 24: f(x) = 2.847501e-02, x = [1.274746e+00, -1.717826e-01]\n",
      "Iteration 25: f(x) = 2.661362e-02, x = [1.278377e+00, -1.851345e-01]\n",
      "Iteration 26: f(x) = 2.494995e-02, x = [1.281780e+00, -1.977573e-01]\n",
      "Iteration 27: f(x) = 2.345598e-02, x = [1.284979e+00, -2.097189e-01]\n",
      "Iteration 28: f(x) = 2.210854e-02, x = [1.287995e+00, -2.210786e-01]\n",
      "Iteration 29: f(x) = 2.088833e-02, x = [1.290845e+00, -2.318887e-01]\n",
      "Iteration 30: f(x) = 1.977912e-02, x = [1.293544e+00, -2.421951e-01]\n",
      "Iteration 31: f(x) = 1.876726e-02, x = [1.296105e+00, -2.520388e-01]\n",
      "Iteration 32: f(x) = 1.784111e-02, x = [1.298541e+00, -2.614563e-01]\n",
      "Iteration 33: f(x) = 1.699079e-02, x = [1.300861e+00, -2.704799e-01]\n",
      "Iteration 34: f(x) = 1.620778e-02, x = [1.303076e+00, -2.791389e-01]\n",
      "Iteration 35: f(x) = 1.548478e-02, x = [1.305192e+00, -2.874595e-01]\n",
      "Iteration 36: f(x) = 1.481544e-02, x = [1.307219e+00, -2.954653e-01]\n",
      "Iteration 37: f(x) = 1.419425e-02, x = [1.309162e+00, -3.031777e-01]\n",
      "Iteration 38: f(x) = 1.361640e-02, x = [1.311027e+00, -3.106163e-01]\n",
      "Iteration 39: f(x) = 1.307767e-02, x = [1.312820e+00, -3.177986e-01]\n",
      "Iteration 40: f(x) = 1.257435e-02, x = [1.314545e+00, -3.247409e-01]\n",
      "Iteration 41: f(x) = 1.210317e-02, x = [1.316207e+00, -3.314579e-01]\n",
      "Iteration 42: f(x) = 1.166124e-02, x = [1.317811e+00, -3.379632e-01]\n",
      "Iteration 43: f(x) = 1.124598e-02, x = [1.319359e+00, -3.442692e-01]\n",
      "Iteration 44: f(x) = 1.085510e-02, x = [1.320855e+00, -3.503874e-01]\n",
      "Iteration 45: f(x) = 1.048654e-02, x = [1.322302e+00, -3.563283e-01]\n",
      "Iteration 46: f(x) = 1.013848e-02, x = [1.323703e+00, -3.621017e-01]\n",
      "Iteration 47: f(x) = 9.809271e-03, x = [1.325060e+00, -3.677168e-01]\n",
      "Iteration 48: f(x) = 9.497416e-03, x = [1.326377e+00, -3.731819e-01]\n",
      "Iteration 49: f(x) = 9.201592e-03, x = [1.327655e+00, -3.785049e-01]\n",
      "Iteration 50: f(x) = 8.920575e-03, x = [1.328896e+00, -3.836930e-01]\n",
      "Iteration 51: f(x) = 8.653266e-03, x = [1.330102e+00, -3.887531e-01]\n",
      "Iteration 52: f(x) = 8.398680e-03, x = [1.331275e+00, -3.936915e-01]\n",
      "Iteration 53: f(x) = 8.155907e-03, x = [1.332417e+00, -3.985141e-01]\n",
      "Iteration 54: f(x) = 7.924106e-03, x = [1.333529e+00, -4.032266e-01]\n",
      "Iteration 55: f(x) = 7.702533e-03, x = [1.334613e+00, -4.078341e-01]\n",
      "Iteration 56: f(x) = 7.490485e-03, x = [1.335670e+00, -4.123416e-01]\n",
      "Iteration 57: f(x) = 7.287335e-03, x = [1.336701e+00, -4.167537e-01]\n",
      "Iteration 58: f(x) = 7.092493e-03, x = [1.337707e+00, -4.210748e-01]\n",
      "Iteration 59: f(x) = 6.905429e-03, x = [1.338690e+00, -4.253090e-01]\n",
      "Iteration 60: f(x) = 6.725642e-03, x = [1.339650e+00, -4.294602e-01]\n",
      "Iteration 61: f(x) = 6.552678e-03, x = [1.340589e+00, -4.335320e-01]\n",
      "Iteration 62: f(x) = 6.386109e-03, x = [1.341507e+00, -4.375280e-01]\n",
      "Iteration 63: f(x) = 6.225554e-03, x = [1.342406e+00, -4.414514e-01]\n",
      "Iteration 64: f(x) = 6.070648e-03, x = [1.343286e+00, -4.453054e-01]\n",
      "Iteration 65: f(x) = 5.921049e-03, x = [1.344148e+00, -4.490929e-01]\n",
      "Iteration 66: f(x) = 5.776449e-03, x = [1.344992e+00, -4.528169e-01]\n",
      "Iteration 67: f(x) = 5.636553e-03, x = [1.345820e+00, -4.564799e-01]\n",
      "Iteration 68: f(x) = 5.501093e-03, x = [1.346632e+00, -4.600846e-01]\n",
      "Iteration 69: f(x) = 5.369817e-03, x = [1.347429e+00, -4.636335e-01]\n",
      "Iteration 70: f(x) = 5.242490e-03, x = [1.348210e+00, -4.671288e-01]\n",
      "Iteration 71: f(x) = 5.118882e-03, x = [1.348978e+00, -4.705729e-01]\n",
      "Iteration 72: f(x) = 4.998794e-03, x = [1.349732e+00, -4.739678e-01]\n",
      "Iteration 73: f(x) = 4.882026e-03, x = [1.350473e+00, -4.773157e-01]\n",
      "Iteration 74: f(x) = 4.768397e-03, x = [1.351202e+00, -4.806184e-01]\n",
      "Iteration 75: f(x) = 4.657740e-03, x = [1.351918e+00, -4.838780e-01]\n",
      "Iteration 76: f(x) = 4.549887e-03, x = [1.352622e+00, -4.870963e-01]\n",
      "Iteration 77: f(x) = 4.444687e-03, x = [1.353316e+00, -4.902749e-01]\n",
      "Iteration 78: f(x) = 4.342000e-03, x = [1.353998e+00, -4.934156e-01]\n",
      "Iteration 79: f(x) = 4.241685e-03, x = [1.354670e+00, -4.965201e-01]\n",
      "Iteration 80: f(x) = 4.143619e-03, x = [1.355332e+00, -4.995898e-01]\n",
      "Iteration 81: f(x) = 4.047674e-03, x = [1.355983e+00, -5.026264e-01]\n",
      "Iteration 82: f(x) = 3.953739e-03, x = [1.356626e+00, -5.056312e-01]\n",
      "Iteration 83: f(x) = 3.861707e-03, x = [1.357260e+00, -5.086058e-01]\n",
      "Iteration 84: f(x) = 3.771465e-03, x = [1.357885e+00, -5.115515e-01]\n",
      "Iteration 85: f(x) = 3.682919e-03, x = [1.358501e+00, -5.144697e-01]\n",
      "Iteration 86: f(x) = 3.595973e-03, x = [1.359109e+00, -5.173616e-01]\n",
      "Iteration 87: f(x) = 3.510539e-03, x = [1.359709e+00, -5.202286e-01]\n",
      "Iteration 88: f(x) = 3.426526e-03, x = [1.360302e+00, -5.230719e-01]\n",
      "Iteration 89: f(x) = 3.343856e-03, x = [1.360888e+00, -5.258926e-01]\n",
      "Iteration 90: f(x) = 3.262446e-03, x = [1.361466e+00, -5.286921e-01]\n",
      "Iteration 91: f(x) = 3.182224e-03, x = [1.362038e+00, -5.314713e-01]\n",
      "Iteration 92: f(x) = 3.103108e-03, x = [1.362603e+00, -5.342315e-01]\n",
      "Iteration 93: f(x) = 3.025034e-03, x = [1.363162e+00, -5.369738e-01]\n",
      "Iteration 94: f(x) = 2.947932e-03, x = [1.363714e+00, -5.396993e-01]\n",
      "Iteration 95: f(x) = 2.871735e-03, x = [1.364261e+00, -5.424089e-01]\n",
      "Iteration 96: f(x) = 2.796381e-03, x = [1.364802e+00, -5.451039e-01]\n",
      "Iteration 97: f(x) = 2.721803e-03, x = [1.365338e+00, -5.477852e-01]\n",
      "Iteration 98: f(x) = 2.647946e-03, x = [1.365868e+00, -5.504538e-01]\n",
      "Iteration 99: f(x) = 2.574744e-03, x = [1.366394e+00, -5.531108e-01]\n",
      "Iteration 100: f(x) = 2.502143e-03, x = [1.366915e+00, -5.557572e-01]\n",
      "Iteration 101: f(x) = 2.430083e-03, x = [1.367430e+00, -5.583939e-01]\n",
      "Iteration 102: f(x) = 2.358512e-03, x = [1.367942e+00, -5.610220e-01]\n",
      "Iteration 103: f(x) = 2.287372e-03, x = [1.368449e+00, -5.636424e-01]\n",
      "Iteration 104: f(x) = 2.216609e-03, x = [1.368952e+00, -5.662562e-01]\n",
      "Iteration 105: f(x) = 2.146170e-03, x = [1.369451e+00, -5.688643e-01]\n",
      "Iteration 106: f(x) = 2.076003e-03, x = [1.369947e+00, -5.714676e-01]\n",
      "Iteration 107: f(x) = 2.006051e-03, x = [1.370439e+00, -5.740672e-01]\n",
      "Iteration 108: f(x) = 1.936262e-03, x = [1.370927e+00, -5.766641e-01]\n",
      "Iteration 109: f(x) = 1.866582e-03, x = [1.371412e+00, -5.792592e-01]\n",
      "Iteration 110: f(x) = 1.796959e-03, x = [1.371894e+00, -5.818535e-01]\n",
      "Iteration 111: f(x) = 1.727336e-03, x = [1.372374e+00, -5.844480e-01]\n",
      "Iteration 112: f(x) = 1.657667e-03, x = [1.372850e+00, -5.870438e-01]\n",
      "Iteration 113: f(x) = 1.587887e-03, x = [1.373324e+00, -5.896419e-01]\n",
      "Iteration 114: f(x) = 1.517942e-03, x = [1.373795e+00, -5.922433e-01]\n",
      "Iteration 115: f(x) = 1.447778e-03, x = [1.374265e+00, -5.948490e-01]\n",
      "Iteration 116: f(x) = 1.377335e-03, x = [1.374732e+00, -5.974602e-01]\n",
      "Iteration 117: f(x) = 1.306555e-03, x = [1.375197e+00, -6.000778e-01]\n",
      "Iteration 118: f(x) = 1.235378e-03, x = [1.375661e+00, -6.027031e-01]\n",
      "Iteration 119: f(x) = 1.163735e-03, x = [1.376122e+00, -6.053372e-01]\n",
      "Iteration 120: f(x) = 1.091564e-03, x = [1.376583e+00, -6.079812e-01]\n",
      "Iteration 121: f(x) = 1.018798e-03, x = [1.377042e+00, -6.106364e-01]\n",
      "Iteration 122: f(x) = 9.453654e-04, x = [1.377500e+00, -6.133038e-01]\n",
      "Iteration 123: f(x) = 8.711994e-04, x = [1.377957e+00, -6.159850e-01]\n",
      "Iteration 124: f(x) = 7.962144e-04, x = [1.378414e+00, -6.186810e-01]\n",
      "Iteration 125: f(x) = 7.203328e-04, x = [1.378870e+00, -6.213933e-01]\n",
      "Iteration 126: f(x) = 6.434749e-04, x = [1.379325e+00, -6.241233e-01]\n",
      "Iteration 127: f(x) = 5.655516e-04, x = [1.379781e+00, -6.268723e-01]\n",
      "Iteration 128: f(x) = 4.864675e-04, x = [1.380236e+00, -6.296419e-01]\n",
      "Iteration 129: f(x) = 4.061251e-04, x = [1.380692e+00, -6.324336e-01]\n",
      "Iteration 130: f(x) = 3.244226e-04, x = [1.381148e+00, -6.352491e-01]\n",
      "Iteration 131: f(x) = 2.412514e-04, x = [1.381604e+00, -6.380900e-01]\n",
      "Iteration 132: f(x) = 1.564836e-04, x = [1.382062e+00, -6.409580e-01]\n",
      "Iteration 133: f(x) = 7.000600e-05, x = [1.382520e+00, -6.438551e-01]\n",
      "Iteration 134: f(x) = -1.832272e-05, x = [1.382980e+00, -6.467831e-01]\n",
      "Iteration 135: f(x) = -1.086460e-04, x = [1.383441e+00, -6.497442e-01]\n",
      "Iteration 136: f(x) = -2.011153e-04, x = [1.383904e+00, -6.527403e-01]\n",
      "Iteration 137: f(x) = -2.958995e-04, x = [1.384369e+00, -6.557738e-01]\n",
      "Iteration 138: f(x) = -3.931728e-04, x = [1.384836e+00, -6.588469e-01]\n",
      "Iteration 139: f(x) = -4.931362e-04, x = [1.385305e+00, -6.619623e-01]\n",
      "Iteration 140: f(x) = -5.959946e-04, x = [1.385778e+00, -6.651225e-01]\n",
      "Iteration 141: f(x) = -7.019772e-04, x = [1.386254e+00, -6.683304e-01]\n",
      "Iteration 142: f(x) = -8.113297e-04, x = [1.386733e+00, -6.715889e-01]\n",
      "Iteration 143: f(x) = -9.243276e-04, x = [1.387216e+00, -6.749012e-01]\n",
      "Iteration 144: f(x) = -1.041256e-03, x = [1.387703e+00, -6.782706e-01]\n",
      "Iteration 145: f(x) = -1.162457e-03, x = [1.388195e+00, -6.817009e-01]\n",
      "Iteration 146: f(x) = -1.288267e-03, x = [1.388692e+00, -6.851957e-01]\n",
      "Iteration 147: f(x) = -1.419092e-03, x = [1.389194e+00, -6.887593e-01]\n",
      "Iteration 148: f(x) = -1.555361e-03, x = [1.389702e+00, -6.923961e-01]\n",
      "Iteration 149: f(x) = -1.697547e-03, x = [1.390216e+00, -6.961108e-01]\n",
      "Iteration 150: f(x) = -1.846194e-03, x = [1.390738e+00, -6.999087e-01]\n",
      "Iteration 151: f(x) = -2.001887e-03, x = [1.391266e+00, -7.037952e-01]\n",
      "Iteration 152: f(x) = -2.165290e-03, x = [1.391803e+00, -7.077764e-01]\n",
      "Iteration 153: f(x) = -2.337151e-03, x = [1.392349e+00, -7.118587e-01]\n",
      "Iteration 154: f(x) = -2.518293e-03, x = [1.392904e+00, -7.160495e-01]\n",
      "Iteration 155: f(x) = -2.709669e-03, x = [1.393469e+00, -7.203563e-01]\n",
      "Iteration 156: f(x) = -2.912346e-03, x = [1.394046e+00, -7.247877e-01]\n",
      "Iteration 157: f(x) = -3.127523e-03, x = [1.394634e+00, -7.293529e-01]\n",
      "Iteration 158: f(x) = -3.356579e-03, x = [1.395235e+00, -7.340622e-01]\n",
      "Iteration 159: f(x) = -3.601114e-03, x = [1.395851e+00, -7.389268e-01]\n",
      "Iteration 160: f(x) = -3.862923e-03, x = [1.396481e+00, -7.439592e-01]\n",
      "Iteration 161: f(x) = -4.144133e-03, x = [1.397128e+00, -7.491733e-01]\n",
      "Iteration 162: f(x) = -4.447168e-03, x = [1.397794e+00, -7.545844e-01]\n",
      "Iteration 163: f(x) = -4.774886e-03, x = [1.398478e+00, -7.602097e-01]\n",
      "Iteration 164: f(x) = -5.130623e-03, x = [1.399184e+00, -7.660685e-01]\n",
      "Iteration 165: f(x) = -5.518354e-03, x = [1.399914e+00, -7.721826e-01]\n",
      "Iteration 166: f(x) = -5.942748e-03, x = [1.400669e+00, -7.785767e-01]\n",
      "Iteration 167: f(x) = -6.409440e-03, x = [1.401452e+00, -7.852786e-01]\n",
      "Iteration 168: f(x) = -6.925197e-03, x = [1.402266e+00, -7.923203e-01]\n",
      "Iteration 169: f(x) = -7.498236e-03, x = [1.403114e+00, -7.997385e-01]\n",
      "Iteration 170: f(x) = -8.138650e-03, x = [1.404000e+00, -8.075756e-01]\n",
      "Iteration 171: f(x) = -8.858887e-03, x = [1.404927e+00, -8.158810e-01]\n",
      "Iteration 172: f(x) = -9.674489e-03, x = [1.405901e+00, -8.247122e-01]\n",
      "Iteration 173: f(x) = -1.060510e-02, x = [1.406928e+00, -8.341373e-01]\n",
      "Iteration 174: f(x) = -1.167578e-02, x = [1.408012e+00, -8.442371e-01]\n",
      "Iteration 175: f(x) = -1.291899e-02, x = [1.409162e+00, -8.551082e-01]\n",
      "Iteration 176: f(x) = -1.437728e-02, x = [1.410387e+00, -8.668678e-01]\n",
      "Iteration 177: f(x) = -1.610741e-02, x = [1.411696e+00, -8.796588e-01]\n",
      "Iteration 178: f(x) = -1.818636e-02, x = [1.413102e+00, -8.936577e-01]\n",
      "Iteration 179: f(x) = -2.072048e-02, x = [1.414619e+00, -9.090856e-01]\n",
      "Iteration 180: f(x) = -2.385994e-02, x = [1.416263e+00, -9.262221e-01]\n",
      "Iteration 181: f(x) = -2.782169e-02, x = [1.418055e+00, -9.454269e-01]\n",
      "Iteration 182: f(x) = -3.292703e-02, x = [1.420018e+00, -9.671688e-01]\n",
      "Iteration 183: f(x) = -3.966543e-02, x = [1.422177e+00, -9.920694e-01]\n",
      "Iteration 184: f(x) = -4.880359e-02, x = [1.424558e+00, -1.020965e+00]\n",
      "Iteration 185: f(x) = -6.157691e-02, x = [1.427181e+00, -1.054995e+00]\n",
      "Iteration 186: f(x) = -8.002096e-02, x = [1.430046e+00, -1.095724e+00]\n",
      "Iteration 187: f(x) = -1.075104e-01, x = [1.433085e+00, -1.145279e+00]\n",
      "Iteration 188: f(x) = -1.494297e-01, x = [1.436062e+00, -1.206407e+00]\n",
      "Iteration 189: f(x) = -2.130615e-01, x = [1.438324e+00, -1.282105e+00]\n",
      "Iteration 190: f(x) = -3.030914e-01, x = [1.438271e+00, -1.373785e+00]\n",
      "Iteration 191: f(x) = -4.078956e-01, x = [1.432639e+00, -1.476405e+00]\n",
      "Iteration 192: f(x) = -4.939731e-01, x = [1.416917e+00, -1.573106e+00]\n",
      "Iteration 193: f(x) = -5.436535e-01, x = [1.389100e+00, -1.643997e+00]\n",
      "Iteration 194: f(x) = -5.724277e-01, x = [1.352290e+00, -1.686502e+00]\n",
      "Iteration 195: f(x) = -5.951134e-01, x = [1.310772e+00, -1.711140e+00]\n",
      "Iteration 196: f(x) = -6.165552e-01, x = [1.267147e+00, -1.727033e+00]\n",
      "Iteration 197: f(x) = -6.377387e-01, x = [1.222680e+00, -1.739079e+00]\n",
      "Iteration 198: f(x) = -6.587566e-01, x = [1.177985e+00, -1.749529e+00]\n",
      "Iteration 199: f(x) = -6.795341e-01, x = [1.133385e+00, -1.759327e+00]\n",
      "Iteration 200: f(x) = -6.999706e-01, x = [1.089076e+00, -1.768838e+00]\n",
      "Iteration 201: f(x) = -7.199648e-01, x = [1.045205e+00, -1.778180e+00]\n",
      "Iteration 202: f(x) = -7.394214e-01, x = [1.001895e+00, -1.787381e+00]\n",
      "Iteration 203: f(x) = -7.582531e-01, x = [9.592556e-01, -1.796432e+00]\n",
      "Iteration 204: f(x) = -7.763826e-01, x = [9.173911e-01, -1.805316e+00]\n",
      "Iteration 205: f(x) = -7.937441e-01, x = [8.763962e-01, -1.814016e+00]\n",
      "Iteration 206: f(x) = -8.102844e-01, x = [8.363575e-01, -1.822513e+00]\n",
      "Iteration 207: f(x) = -8.259630e-01, x = [7.973518e-01, -1.830791e+00]\n",
      "Iteration 208: f(x) = -8.407528e-01, x = [7.594456e-01, -1.838835e+00]\n",
      "Iteration 209: f(x) = -8.546390e-01, x = [7.226951e-01, -1.846634e+00]\n",
      "Iteration 210: f(x) = -8.676187e-01, x = [6.871453e-01, -1.854178e+00]\n",
      "Iteration 211: f(x) = -8.796999e-01, x = [6.528308e-01, -1.861460e+00]\n",
      "Iteration 212: f(x) = -8.908998e-01, x = [6.197761e-01, -1.868475e+00]\n",
      "Iteration 213: f(x) = -9.012437e-01, x = [5.879954e-01, -1.875219e+00]\n",
      "Iteration 214: f(x) = -9.107636e-01, x = [5.574943e-01, -1.881692e+00]\n",
      "Iteration 215: f(x) = -9.194965e-01, x = [5.282699e-01, -1.887894e+00]\n",
      "Iteration 216: f(x) = -9.274834e-01, x = [5.003120e-01, -1.893827e+00]\n",
      "Iteration 217: f(x) = -9.347674e-01, x = [4.736037e-01, -1.899495e+00]\n",
      "Iteration 218: f(x) = -9.413935e-01, x = [4.481227e-01, -1.904902e+00]\n",
      "Iteration 219: f(x) = -9.474069e-01, x = [4.238416e-01, -1.910055e+00]\n",
      "Iteration 220: f(x) = -9.528525e-01, x = [4.007295e-01, -1.914959e+00]\n",
      "Iteration 221: f(x) = -9.577744e-01, x = [3.787521e-01, -1.919623e+00]\n",
      "Iteration 222: f(x) = -9.622149e-01, x = [3.578727e-01, -1.924054e+00]\n",
      "Iteration 223: f(x) = -9.662147e-01, x = [3.380529e-01, -1.928260e+00]\n",
      "Iteration 224: f(x) = -9.698122e-01, x = [3.192529e-01, -1.932250e+00]\n",
      "Iteration 225: f(x) = -9.730437e-01, x = [3.014323e-01, -1.936032e+00]\n",
      "Iteration 226: f(x) = -9.759430e-01, x = [2.845505e-01, -1.939614e+00]\n",
      "Iteration 227: f(x) = -9.785414e-01, x = [2.685665e-01, -1.943006e+00]\n",
      "Iteration 228: f(x) = -9.808679e-01, x = [2.534404e-01, -1.946216e+00]\n",
      "Iteration 229: f(x) = -9.829491e-01, x = [2.391321e-01, -1.949253e+00]\n",
      "Iteration 230: f(x) = -9.848096e-01, x = [2.256031e-01, -1.952124e+00]\n",
      "Iteration 231: f(x) = -9.864715e-01, x = [2.128153e-01, -1.954838e+00]\n",
      "Iteration 232: f(x) = -9.879551e-01, x = [2.007319e-01, -1.957402e+00]\n",
      "Iteration 233: f(x) = -9.892788e-01, x = [1.893175e-01, -1.959824e+00]\n",
      "Iteration 234: f(x) = -9.904593e-01, x = [1.785378e-01, -1.962112e+00]\n",
      "Iteration 235: f(x) = -9.915116e-01, x = [1.683597e-01, -1.964272e+00]\n",
      "Iteration 236: f(x) = -9.924492e-01, x = [1.587517e-01, -1.966311e+00]\n",
      "Iteration 237: f(x) = -9.932844e-01, x = [1.496834e-01, -1.968235e+00]\n",
      "Iteration 238: f(x) = -9.940281e-01, x = [1.411259e-01, -1.970051e+00]\n",
      "Iteration 239: f(x) = -9.946901e-01, x = [1.330516e-01, -1.971765e+00]\n",
      "Iteration 240: f(x) = -9.952793e-01, x = [1.254342e-01, -1.973381e+00]\n",
      "Iteration 241: f(x) = -9.958036e-01, x = [1.182486e-01, -1.974906e+00]\n",
      "Iteration 242: f(x) = -9.962699e-01, x = [1.114711e-01, -1.976344e+00]\n",
      "Iteration 243: f(x) = -9.966848e-01, x = [1.050791e-01, -1.977701e+00]\n",
      "Iteration 244: f(x) = -9.970537e-01, x = [9.905111e-02, -1.978980e+00]\n",
      "Iteration 245: f(x) = -9.973817e-01, x = [9.336681e-02, -1.980186e+00]\n",
      "Iteration 246: f(x) = -9.976734e-01, x = [8.800695e-02, -1.981324e+00]\n",
      "Iteration 247: f(x) = -9.979326e-01, x = [8.295330e-02, -1.982396e+00]\n",
      "Iteration 248: f(x) = -9.981631e-01, x = [7.818861e-02, -1.983407e+00]\n",
      "Iteration 249: f(x) = -9.983679e-01, x = [7.369657e-02, -1.984361e+00]\n",
      "Iteration 250: f(x) = -9.985500e-01, x = [6.946172e-02, -1.985259e+00]\n",
      "Iteration 251: f(x) = -9.987118e-01, x = [6.546949e-02, -1.986106e+00]\n",
      "Iteration 252: f(x) = -9.988555e-01, x = [6.170611e-02, -1.986905e+00]\n",
      "Iteration 253: f(x) = -9.989833e-01, x = [5.815855e-02, -1.987658e+00]\n",
      "Iteration 254: f(x) = -9.990968e-01, x = [5.481451e-02, -1.988368e+00]\n",
      "Iteration 255: f(x) = -9.991976e-01, x = [5.166240e-02, -1.989037e+00]\n",
      "Iteration 256: f(x) = -9.992872e-01, x = [4.869124e-02, -1.989667e+00]\n",
      "Iteration 257: f(x) = -9.993668e-01, x = [4.589070e-02, -1.990261e+00]\n",
      "Iteration 258: f(x) = -9.994376e-01, x = [4.325104e-02, -1.990821e+00]\n",
      "Iteration 259: f(x) = -9.995004e-01, x = [4.076304e-02, -1.991349e+00]\n",
      "Iteration 260: f(x) = -9.995562e-01, x = [3.841802e-02, -1.991847e+00]\n",
      "Iteration 261: f(x) = -9.996058e-01, x = [3.620777e-02, -1.992316e+00]\n",
      "Iteration 262: f(x) = -9.996498e-01, x = [3.412456e-02, -1.992758e+00]\n",
      "Iteration 263: f(x) = -9.996890e-01, x = [3.216114e-02, -1.993175e+00]\n",
      "Iteration 264: f(x) = -9.997237e-01, x = [3.031062e-02, -1.993568e+00]\n",
      "Iteration 265: f(x) = -9.997546e-01, x = [2.856650e-02, -1.993938e+00]\n",
      "Iteration 266: f(x) = -9.997820e-01, x = [2.692268e-02, -1.994287e+00]\n",
      "Iteration 267: f(x) = -9.998064e-01, x = [2.537342e-02, -1.994615e+00]\n",
      "Iteration 268: f(x) = -9.998280e-01, x = [2.391327e-02, -1.994925e+00]\n",
      "Iteration 269: f(x) = -9.998472e-01, x = [2.253713e-02, -1.995217e+00]\n",
      "Iteration 270: f(x) = -9.998643e-01, x = [2.124015e-02, -1.995493e+00]\n",
      "Iteration 271: f(x) = -9.998795e-01, x = [2.001779e-02, -1.995752e+00]\n",
      "Iteration 272: f(x) = -9.998930e-01, x = [1.886575e-02, -1.995996e+00]\n",
      "Iteration 273: f(x) = -9.999049e-01, x = [1.778000e-02, -1.996227e+00]\n",
      "Iteration 274: f(x) = -9.999155e-01, x = [1.675674e-02, -1.996444e+00]\n",
      "Iteration 275: f(x) = -9.999250e-01, x = [1.579235e-02, -1.996649e+00]\n",
      "Iteration 276: f(x) = -9.999334e-01, x = [1.488345e-02, -1.996842e+00]\n",
      "Iteration 277: f(x) = -9.999408e-01, x = [1.402685e-02, -1.997023e+00]\n",
      "Iteration 278: f(x) = -9.999474e-01, x = [1.321954e-02, -1.997195e+00]\n",
      "Iteration 279: f(x) = -9.999533e-01, x = [1.245870e-02, -1.997356e+00]\n",
      "Iteration 280: f(x) = -9.999585e-01, x = [1.174165e-02, -1.997508e+00]\n",
      "Iteration 281: f(x) = -9.999632e-01, x = [1.106586e-02, -1.997652e+00]\n",
      "Iteration 282: f(x) = -9.999673e-01, x = [1.042895e-02, -1.997787e+00]\n",
      "Iteration 283: f(x) = -9.999710e-01, x = [9.828703e-03, -1.997914e+00]\n",
      "Iteration 284: f(x) = -9.999742e-01, x = [9.263011e-03, -1.998034e+00]\n",
      "Iteration 285: f(x) = -9.999771e-01, x = [8.729876e-03, -1.998147e+00]\n",
      "Iteration 286: f(x) = -9.999796e-01, x = [8.227427e-03, -1.998254e+00]\n",
      "Iteration 287: f(x) = -9.999819e-01, x = [7.753882e-03, -1.998355e+00]\n",
      "Iteration 288: f(x) = -9.999840e-01, x = [7.307591e-03, -1.998449e+00]\n",
      "Iteration 289: f(x) = -9.999858e-01, x = [6.886997e-03, -1.998538e+00]\n",
      "Iteration 290: f(x) = -9.999873e-01, x = [6.490604e-03, -1.998623e+00]\n",
      "Iteration 291: f(x) = -9.999887e-01, x = [6.117017e-03, -1.998702e+00]\n",
      "Iteration 292: f(x) = -9.999900e-01, x = [5.764934e-03, -1.998777e+00]\n",
      "Iteration 293: f(x) = -9.999911e-01, x = [5.433133e-03, -1.998847e+00]\n",
      "Iteration 294: f(x) = -9.999921e-01, x = [5.120421e-03, -1.998913e+00]\n",
      "Iteration 295: f(x) = -9.999930e-01, x = [4.825700e-03, -1.998976e+00]\n",
      "Iteration 296: f(x) = -9.999938e-01, x = [4.547933e-03, -1.999035e+00]\n",
      "Iteration 297: f(x) = -9.999945e-01, x = [4.286165e-03, -1.999090e+00]\n",
      "Iteration 298: f(x) = -9.999951e-01, x = [4.039464e-03, -1.999143e+00]\n",
      "Iteration 299: f(x) = -9.999956e-01, x = [3.806965e-03, -1.999192e+00]\n",
      "Iteration 300: f(x) = -9.999961e-01, x = [3.587846e-03, -1.999239e+00]\n",
      "Iteration 301: f(x) = -9.999965e-01, x = [3.381340e-03, -1.999282e+00]\n",
      "Iteration 302: f(x) = -9.999970e-01, x = [3.186711e-03, -1.999324e+00]\n",
      "Iteration 303: f(x) = -9.999973e-01, x = [3.003295e-03, -1.999363e+00]\n",
      "Iteration 304: f(x) = -9.999976e-01, x = [2.830425e-03, -1.999399e+00]\n",
      "Iteration 305: f(x) = -9.999979e-01, x = [2.667522e-03, -1.999434e+00]\n",
      "Iteration 306: f(x) = -9.999981e-01, x = [2.513995e-03, -1.999467e+00]\n",
      "Iteration 307: f(x) = -9.999983e-01, x = [2.369288e-03, -1.999497e+00]\n",
      "Iteration 308: f(x) = -9.999985e-01, x = [2.232925e-03, -1.999526e+00]\n",
      "Iteration 309: f(x) = -9.999987e-01, x = [2.104404e-03, -1.999553e+00]\n",
      "Iteration 310: f(x) = -9.999988e-01, x = [1.983275e-03, -1.999579e+00]\n",
      "Iteration 311: f(x) = -9.999989e-01, x = [1.869110e-03, -1.999603e+00]\n",
      "Iteration 312: f(x) = -9.999990e-01, x = [1.761521e-03, -1.999626e+00]\n",
      "Converged!\n"
     ]
    }
   ],
   "source": [
    "# The extra dimension marked with `None` is used to make it \n",
    "# possible\n",
    "init = torch.FloatTensor([0.8, 0.8])\n",
    "optimizer = GradientDescent([Variable(init.clone(), requires_grad=True)], lr=0.1)\n",
    "iterate_rec = minimize(f, optimizer, verbose=True)"
   ]
  },
  {
   "cell_type": "code",
   "execution_count": 48,
   "metadata": {},
   "outputs": [],
   "source": [
    "def plot_trace(iterate_rec, ax, label='', tags=True):\n",
    "    iterate_rec = iterate_rec.numpy()\n",
    "    n_steps = len(iterate_rec)\n",
    "    line = ax.plot(iterate_rec[:, 0], iterate_rec[:, 1], linestyle=':',\n",
    "                   marker='o', markersize=2,\n",
    "                   label=label + \" (%d steps)\" % n_steps)\n",
    "    color = plt.getp(line[0], 'color')\n",
    "    bbox_props = dict(boxstyle=\"square,pad=0.3\", ec=color, fc='white',\n",
    "                      lw=1)\n",
    "    if tags:\n",
    "        for i in range(0, len(iterate_rec), 10):\n",
    "            ax.annotate(i, xy=(iterate_rec[i, 0], iterate_rec[i, 1]),\n",
    "                        xycoords='data',\n",
    "                        xytext=(5 + np.random.uniform(-2, 2),\n",
    "                                5 + np.random.uniform(-2, 2)),\n",
    "                        textcoords='offset points',\n",
    "                        bbox=bbox_props)"
   ]
  },
  {
   "cell_type": "code",
   "execution_count": 49,
   "metadata": {},
   "outputs": [
    {
     "data": {
      "image/png": "[encoded data removed]",
      "text/plain": [
       "<matplotlib.figure.Figure at 0x7f5b68d27cc0>"
      ]
     },
     "metadata": {},
     "output_type": "display_data"
    }
   ],
   "source": [
    "fig, (ax1, ax2) = plt.subplots(1, 2, figsize=(16, 8))\n",
    "plot_function(f, ax1)\n",
    "plot_function(f, ax2)\n",
    "plot_trace(iterate_rec, ax1, label='gradient_descent')\n",
    "plot_trace(iterate_rec, ax2, label='gradient_descent', tags=False)\n",
    "plt.legend();"
   ]
  },
  {
   "cell_type": "markdown",
   "metadata": {},
   "source": [
    "## Exercices\n",
    "\n",
    "- Try to move the initialization point to the other side of the yellow mountain, for instance at position `[0.8, 1.2]`. What do you observe? How to do you explain this?\n",
    "- Implement the step method of `MomemtumGradientDescent`.\n",
    "- Check that it behaves as `GradientDescent` for `momemtum=0`\n",
    "- Can you find a value of `momentum` that makes it converge faster than gradient descent on for this objective function?\n",
    "- Try to use [torch.optim.Adam](http://pytorch.org/docs/master/optim.html#torch.optim.Adam) in the minimization loop.\n",
    "- Compare the three trajectories."
   ]
  },
  {
   "cell_type": "code",
   "execution_count": 51,
   "metadata": {},
   "outputs": [],
   "source": [
    "class MomentumGradientDescent(GradientDescent):\n",
    "\n",
    "    def __init__(self, params, lr=0.1, momentum=.9):\n",
    "        super(MomentumGradientDescent, self).__init__(params, lr)\n",
    "        self.momentum = momentum\n",
    "        self.velocities = [param.data.new(param.shape).zero_()\n",
    "                           for param in params]\n",
    "\n",
    "    def step(self):\n",
    "        # TODO: implement me!\n",
    "        pass"
   ]
  },
  {
   "cell_type": "code",
   "execution_count": 52,
   "metadata": {},
   "outputs": [],
   "source": [
    "# %load solutions/momentum_optimizer.py\n",
    "class MomentumGradientDescent(GradientDescent):\n",
    "\n",
    "    def __init__(self, params, lr=0.1, momentum=.9):\n",
    "        super(MomentumGradientDescent, self).__init__(params, lr)\n",
    "        self.momentum = momentum\n",
    "        self.velocities = [param.data.new(param.shape).zero_()\n",
    "                           for param in params]\n",
    "\n",
    "    def step(self):\n",
    "        for i, (param, velocity) in enumerate(zip(self.params,\n",
    "                                                  self.velocities)):\n",
    "            velocity = (self.momentum * velocity +\n",
    "                        (1 - self.momentum) * param.grad.data)\n",
    "            param.data = param.data - self.lr * velocity\n",
    "            self.velocities[i] = velocity\n"
   ]
  },
  {
   "cell_type": "code",
   "execution_count": 54,
   "metadata": {},
   "outputs": [
    {
     "data": {
      "image/png": "[encoded data removed]",
      "text/plain": [
       "<matplotlib.figure.Figure at 0x7f5b68235198>"
      ]
     },
     "metadata": {},
     "output_type": "display_data"
    }
   ],
   "source": [
    "fig, ax = plt.subplots(figsize=(8, 8))\n",
    "plot_function(f, ax)\n",
    "\n",
    "lr = 0.1\n",
    "init = torch.FloatTensor([0.8, 0.8])\n",
    "\n",
    "optimizer = GradientDescent([Variable(init.clone(), requires_grad=True)], lr=lr)\n",
    "iterate_rec = minimize(f, optimizer)\n",
    "plot_trace(iterate_rec, ax, label='gradient descent', tags=False)\n",
    "\n",
    "optimizer = MomentumGradientDescent([Variable(init.clone(), requires_grad=True)],\n",
    "                                    lr=lr, momentum=0.9)\n",
    "iterate_rec = minimize(f, optimizer)\n",
    "plot_trace(iterate_rec, ax, label='momentum', tags=False)\n",
    "\n",
    "# TODO: plot torch.optim.Adam\n",
    "\n",
    "ax.legend();"
   ]
  },
  {
   "cell_type": "markdown",
   "metadata": {},
   "source": [
    "What do you observe ? Try changing the momentum and the initialization to compare optimization traces."
   ]
  }
 ],
 "metadata": {
  "kernelspec": {
   "display_name": "Python 3",
   "language": "python",
   "name": "python3"
  },
  "language_info": {
   "codemirror_mode": {
    "name": "ipython",
    "version": 3
   },
   "file_extension": ".py",
   "mimetype": "text/x-python",
   "name": "python",
   "nbconvert_exporter": "python",
   "pygments_lexer": "ipython3",
   "version": "3.6.4"
  }
 },
 "nbformat": 4,
 "nbformat_minor": 2
}
