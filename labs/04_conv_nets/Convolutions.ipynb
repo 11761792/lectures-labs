{
 "cells": [
  {
   "cell_type": "markdown",
   "metadata": {},
   "source": [
    "# Convolutions\n",
    "\n",
    "Objectives:\n",
    "- Application of convolution on images"
   ]
  },
  {
   "cell_type": "markdown",
   "metadata": {},
   "source": [
    "### Reading and opening images\n",
    "\n",
    "The following code enables to read an image, put it in a numpy array and display it in the notebook."
   ]
  },
  {
   "cell_type": "code",
   "execution_count": null,
   "metadata": {},
   "outputs": [],
   "source": [
    "%matplotlib inline\n",
    "import matplotlib.pyplot as plt\n",
    "import numpy as np\n",
    "\n",
    "from skimage.io import imread\n",
    "from skimage.transform import resize"
   ]
  },
  {
   "cell_type": "code",
   "execution_count": null,
   "metadata": {},
   "outputs": [],
   "source": [
    "sample_image = imread(\"bumblebee.png\")\n",
    "sample_image= sample_image.astype(float)\n",
    "\n",
    "size = sample_image.shape\n",
    "print(\"sample image shape: \"+ str(sample_image.shape))\n",
    "\n",
    "def show(image):\n",
    "    image = np.squeeze(image.astype(\"uint8\"))\n",
    "    plt.imshow(image, cmap=\"gray\")\n",
    "\n",
    "show(sample_image)"
   ]
  },
  {
   "cell_type": "markdown",
   "metadata": {},
   "source": [
    "### A simple convolution filter\n",
    "\n",
    "The goal of this section to use TensorFlow to perform convolutions on images. This section does not involve training any model yet."
   ]
  },
  {
   "cell_type": "code",
   "execution_count": null,
   "metadata": {},
   "outputs": [],
   "source": [
    "import keras\n",
    "from keras.models import Model\n",
    "from keras.layers import Input, Conv2D"
   ]
  },
  {
   "cell_type": "code",
   "execution_count": null,
   "metadata": {
    "scrolled": true
   },
   "outputs": [],
   "source": [
    "inp = Input((None, None, 3), dtype=\"float32\")\n",
    "x = Conv2D(kernel_size=(5,5), filters=3, padding=\"same\", kernel_initializer=my_init)(inp) \n",
    "\n",
    "conv = Model(inputs=inp, outputs=x)\n",
    "conv.output_shape"
   ]
  },
  {
   "cell_type": "code",
   "execution_count": null,
   "metadata": {},
   "outputs": [],
   "source": [
    "img_out = conv.predict(np.expand_dims(sample_image, 0))\n",
    "show(img_out[0])\n",
    "show(sample_image)"
   ]
  },
  {
   "cell_type": "markdown",
   "metadata": {},
   "source": [
    "The resulting image appearing is a random convolutional filter of the original one. Let's look at the parameters:"
   ]
  },
  {
   "cell_type": "code",
   "execution_count": null,
   "metadata": {},
   "outputs": [],
   "source": [
    "conv.summary()"
   ]
  },
  {
   "cell_type": "code",
   "execution_count": null,
   "metadata": {
    "scrolled": true
   },
   "outputs": [],
   "source": [
    "weights = conv.get_weights()[0]\n",
    "biases = conv.get_weights()[1]\n",
    "weights.shape, biases.shape, weights[0,0,0,0]"
   ]
  },
  {
   "cell_type": "markdown",
   "metadata": {},
   "source": [
    "We can instead build a kernel ourselves, by defining a function which will be passed to `Conv2D` Layer.\n",
    "We'll create an array with 1/25 for filters, with each channel seperated. "
   ]
  },
  {
   "cell_type": "code",
   "execution_count": null,
   "metadata": {},
   "outputs": [],
   "source": [
    "def my_init(shape, dtype=None):\n",
    "    array = np.zeros(shape=(5,5,3,3))\n",
    "    array[:,:,0,0] = 1/25\n",
    "    array[:,:,1,1] = 1/25\n",
    "    array[:,:,2,2] = 1/25\n",
    "    return array"
   ]
  },
  {
   "cell_type": "code",
   "execution_count": null,
   "metadata": {},
   "outputs": [],
   "source": [
    "np.transpose(my_init(0), (2,3,0,1))"
   ]
  },
  {
   "cell_type": "code",
   "execution_count": null,
   "metadata": {
    "scrolled": true
   },
   "outputs": [],
   "source": [
    "inp = Input((None, None, 3), dtype=\"float32\")\n",
    "x = Conv2D(kernel_size=(5,5), filters=3, padding=\"same\", kernel_initializer=my_init)(inp) \n",
    "\n",
    "conv = Model(inputs=inp, outputs=x)\n",
    "conv.output_shape"
   ]
  },
  {
   "cell_type": "code",
   "execution_count": null,
   "metadata": {},
   "outputs": [],
   "source": [
    "show(sample_image)\n",
    "plt.show()\n",
    "img_out = conv.predict(np.expand_dims(sample_image, 0))\n",
    "show(img_out[0])"
   ]
  },
  {
   "cell_type": "markdown",
   "metadata": {},
   "source": [
    "**Exercise**\n",
    "- Build an identity 3x3 kernel with stride 2. What is the size of the output image?\n",
    "- Change the padding to 'VALID'. What do you observe?"
   ]
  },
  {
   "cell_type": "code",
   "execution_count": null,
   "metadata": {},
   "outputs": [],
   "source": [
    "# %load solutions/strides_padding.py"
   ]
  },
  {
   "cell_type": "markdown",
   "metadata": {},
   "source": [
    "### Working on edge detection on Grayscale image"
   ]
  },
  {
   "cell_type": "code",
   "execution_count": null,
   "metadata": {
    "scrolled": true
   },
   "outputs": [],
   "source": [
    "# convert image to greyscale\n",
    "grey_sample_image = sample_image.sum(axis=2) / 3.\n",
    "\n",
    "# add the channel dimension even if it's only one channel\n",
    "grey_sample_image = grey_sample_image[:, :, np.newaxis]\n",
    "\n",
    "show(grey_sample_image)"
   ]
  },
  {
   "cell_type": "markdown",
   "metadata": {},
   "source": [
    "**Exercise**\n",
    "- Build an edge detector using `Conv2D` on greyscale image\n",
    "- You may experiment with several kernels to find a way to detect edges\n",
    "- https://en.wikipedia.org/wiki/Kernel_(image_processing)\n",
    "\n",
    "Try `Conv2D?` or press `shift-tab` to get the documentation. You may get help at https://keras.io/layers/convolutional/"
   ]
  },
  {
   "cell_type": "code",
   "execution_count": null,
   "metadata": {},
   "outputs": [],
   "source": [
    "# %load solutions/edge_detection"
   ]
  },
  {
   "cell_type": "markdown",
   "metadata": {},
   "source": [
    "### Pooling and strides with convolutions\n",
    "\n",
    "**Exercise**\n",
    "- Use `MaxPool2D` to apply a 2x2 max pool to the image\n",
    "- Use `AvgPool2D` to apply an average pooling.\n",
    "- Is it possible to compute a max pooling and an average pooling with well chosen kernels?\n",
    "\n",
    "**bonus**\n",
    "- Implement a 3x3 average pooling with a regular convolution `Conv2D`, with well chosen strides, kernel and padding"
   ]
  },
  {
   "cell_type": "code",
   "execution_count": null,
   "metadata": {},
   "outputs": [],
   "source": [
    "from keras.layers import MaxPool2D, AvgPool2D"
   ]
  },
  {
   "cell_type": "code",
   "execution_count": null,
   "metadata": {},
   "outputs": [],
   "source": [
    "# %load solutions/pooling.py"
   ]
  },
  {
   "cell_type": "code",
   "execution_count": null,
   "metadata": {},
   "outputs": [],
   "source": [
    "# %load solutions/average_as_conv.py"
   ]
  }
 ],
 "metadata": {
  "kernelspec": {
   "display_name": "Python 3",
   "language": "python",
   "name": "python3"
  },
  "language_info": {
   "codemirror_mode": {
    "name": "ipython",
    "version": 3
   },
   "file_extension": ".py",
   "mimetype": "text/x-python",
   "name": "python",
   "nbconvert_exporter": "python",
   "pygments_lexer": "ipython3",
   "version": "3.5.2"
  }
 },
 "nbformat": 4,
 "nbformat_minor": 1
}
